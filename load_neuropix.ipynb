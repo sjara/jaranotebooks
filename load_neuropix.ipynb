{
 "cells": [
  {
   "cell_type": "markdown",
   "metadata": {},
   "source": [
    "# Loading neuropixels data from Jaramillo lab"
   ]
  },
  {
   "cell_type": "markdown",
   "metadata": {},
   "source": [
    "## Copy data to your workstation\n",
    "You need three sets of data:\n",
    "1. **Electrophysiology data**: spikes and events data.\n",
    "1. **Behavior/stimulus data**: timing and parameters for each stimulus.\n",
    "1. **Database of cells**: metadata about each recorded neuron."
   ]
  },
  {
   "cell_type": "markdown",
   "metadata": {},
   "source": [
    "## Install Python packages\n",
    "1. You need to install the package [jaratoolbox](https://github.com/sjara/jaratoolbox) to read these datasets. If you want to run this inside a **virtual environment**, you need to create the environment before following the installation instructions in the README.txt.\n",
    "2. Make sure your paths in `settings.py` point to the correct locations where data is stored."
   ]
  },
  {
   "cell_type": "markdown",
   "metadata": {},
   "source": [
    "# Load database of cells\n",
    "The code below loads the database of cells (a pandas DataFrame) for mouse `feat007`."
   ]
  },
  {
   "cell_type": "code",
   "execution_count": 75,
   "metadata": {},
   "outputs": [],
   "source": [
    "import os\n",
    "from jaratoolbox import settings\n",
    "from jaratoolbox import celldatabase\n",
    "\n",
    "subject = 'feat007'\n",
    "studyName = '2022paspeech'\n",
    "dbPath = os.path.join(settings.DATABASE_PATH, studyName, f'celldb_{subject}.h5')\n",
    "celldb = celldatabase.load_hdf(dbPath)"
   ]
  },
  {
   "cell_type": "code",
   "execution_count": 76,
   "metadata": {},
   "outputs": [
    {
     "data": {
      "text/plain": [
       "behavSuffix                                                  [a, b, a]\n",
       "bestChannel                                                          0\n",
       "brainArea                                                     AC_right\n",
       "cluster                                                              0\n",
       "cluster_label                                                     good\n",
       "date                                                        2022-03-10\n",
       "egroup                                                               0\n",
       "ephysTime                               [11-19-31, 11-27-37, 11-44-02]\n",
       "info                                     [anteromedial_DiI, soundLeft]\n",
       "maxDepth                                                          2967\n",
       "paradigm               [am_tuning_curve, am_tuning_curve, 2afc_speech]\n",
       "pdepth                                                            2967\n",
       "probe                                                        NPv1-8131\n",
       "recordingSiteName                 Temporal association areas, layer 6a\n",
       "recordingTrack                                        anteromedial_DiI\n",
       "sessionType                              [AM, pureTones, FTVOTBorders]\n",
       "spikeShape           [0.018705752, 0.026357032, 0.024683712, 0.0253...\n",
       "subject                                                        feat007\n",
       "x_coord                                                        403.157\n",
       "y_coord                                                        165.165\n",
       "z_coord                                                            217\n",
       "Name: 0, dtype: object"
      ]
     },
     "execution_count": 76,
     "metadata": {},
     "output_type": "execute_result"
    }
   ],
   "source": [
    "celldb.iloc[0]"
   ]
  },
  {
   "cell_type": "markdown",
   "metadata": {},
   "source": [
    "In these recordings, there are three types of sessions: (1) AM sounds, (2) pure tones, and (3) speech sounds. "
   ]
  },
  {
   "cell_type": "code",
   "execution_count": 77,
   "metadata": {},
   "outputs": [
    {
     "data": {
      "text/plain": [
       "['AM', 'pureTones', 'FTVOTBorders']"
      ]
     },
     "execution_count": 77,
     "metadata": {},
     "output_type": "execute_result"
    }
   ],
   "source": [
    "celldb.sessionType[0]"
   ]
  },
  {
   "cell_type": "markdown",
   "metadata": {},
   "source": [
    "## Load data from one cell\n",
    "Load the spike data from one cell."
   ]
  },
  {
   "cell_type": "code",
   "execution_count": 78,
   "metadata": {},
   "outputs": [],
   "source": [
    "from jaratoolbox import ephyscore\n",
    "\n",
    "dbRow = celldb.iloc[9]  # Get metadata for the tenth cell in database\n",
    "\n",
    "oneCell = ephyscore.Cell(dbRow)\n",
    "ephysData, bdata = oneCell.load('AM') # Load data for session with AM sounds"
   ]
  },
  {
   "cell_type": "markdown",
   "metadata": {},
   "source": [
    "**IMPORTANT:** Note that the number of stimulus presentations collected by the ephys system is usually one higher than the number of stimuli stored from the behavior system. This is because the behavior system only stores trials that fully completed (and the user usually stops the presentation half-way through a trial)."
   ]
  },
  {
   "cell_type": "code",
   "execution_count": 79,
   "metadata": {},
   "outputs": [
    {
     "name": "stdout",
     "output_type": "stream",
     "text": [
      "221\n"
     ]
    }
   ],
   "source": [
    "nTrialsBehavior = len(bdata['currentFreq'])\n",
    "print(nTrialsBehavior)"
   ]
  },
  {
   "cell_type": "code",
   "execution_count": 80,
   "metadata": {},
   "outputs": [
    {
     "name": "stdout",
     "output_type": "stream",
     "text": [
      "222\n"
     ]
    }
   ],
   "source": [
    "nTrialsEphys = len(ephysData['events']['stimOn'])\n",
    "print(nTrialsEphys)"
   ]
  },
  {
   "cell_type": "code",
   "execution_count": 83,
   "metadata": {},
   "outputs": [],
   "source": [
    "from jaratoolbox import spikesanalysis\n",
    "\n",
    "spikeTimes = ephysData['spikeTimes']\n",
    "eventOnsetTimes = ephysData['events']['stimOn']\n",
    "timeRange = [-0.5, 1]  # In seconds\n",
    "\n",
    "(spikeTimesFromEventOnset, trialIndexForEachSpike, indexLimitsEachTrial) = \\\n",
    "    spikesanalysis.eventlocked_spiketimes(spikeTimes, eventOnsetTimes, timeRange)"
   ]
  },
  {
   "cell_type": "code",
   "execution_count": 85,
   "metadata": {},
   "outputs": [
    {
     "data": {
      "image/png": "[encoded data removed]",
      "text/plain": [
       "<Figure size 432x288 with 1 Axes>"
      ]
     },
     "metadata": {
      "needs_background": "light"
     },
     "output_type": "display_data"
    }
   ],
   "source": [
    "import numpy as np\n",
    "import matplotlib.pyplot as plt\n",
    "from jaratoolbox import extraplots\n",
    "from jaratoolbox import behavioranalysis\n",
    "\n",
    "currentFreq = bdata['currentFreq']\n",
    "possibleFreq = np.unique(currentFreq)\n",
    "trialsEachCond = behavioranalysis.find_trials_each_type(currentFreq, possibleFreq)\n",
    "pRaster, hcond, zline = extraplots.raster_plot(spikeTimesFromEventOnset, indexLimitsEachTrial, \n",
    "                                               timeRange, trialsEachCond, labels=possibleFreq)\n",
    "plt.xlabel('Time (s)');\n",
    "plt.ylabel('AM rate (Hz)');"
   ]
  },
  {
   "cell_type": "code",
   "execution_count": null,
   "metadata": {},
   "outputs": [],
   "source": []
  }
 ],
 "metadata": {
  "kernelspec": {
   "display_name": "Python 3",
   "language": "python",
   "name": "python3"
  },
  "language_info": {
   "codemirror_mode": {
    "name": "ipython",
    "version": 3
   },
   "file_extension": ".py",
   "mimetype": "text/x-python",
   "name": "python",
   "nbconvert_exporter": "python",
   "pygments_lexer": "ipython3",
   "version": "3.8.10"
  }
 },
 "nbformat": 4,
 "nbformat_minor": 4
}
