{
 "cells": [
  {
   "cell_type": "markdown",
   "metadata": {},
   "source": [
    "## Repeated-measures statistics for amod experiments\n",
    "Nick Ponvert, 2019-03-18"
   ]
  },
  {
   "cell_type": "markdown",
   "metadata": {},
   "source": [
    "In the amod experiments, we test animals using a behavioral paradigm where the type of auditory stimulus that must be discriminated varies from trial to trial. We have been using two types of auditory stimuli: chords of different frequencies, and amplitude-modulated noise with different modulation rates. The animal is required to discriminate low vs. high frequencies on trials where a chord is presented, and fast vs. slow modulation rates on trials where an AM sound is presented. We have been interleaving chord and AM trials so that the type of stimulus switches back and forth each trial. \n",
    "\n",
    "Animals performing this task are then administered intracranial injections of either saline or muscimol before each behavioral session. We alternate between saline and muscimol injections from one day to the next. So the experimental structure looks like this: \n",
    "\n",
    "* Multiple animals performing the task (we may be able to forget this for now and analyze each animal independently)\n",
    "* Multiple tasks being performed by each animal each day (but performance on the two tasks **may be correlated**)\n",
    "* Performance is evaluated over several days. \n",
    "* On each day, one of two manipulations is performed. \n",
    "\n",
    "A confound: \n",
    "* The starting accuracy on the two tasks is not the same. \n",
    "\n",
    "We are interested in: \n",
    "* Whether the muscimol affects task performance, and specifically whether it affects performance of one task more than the other."
   ]
  },
  {
   "cell_type": "markdown",
   "metadata": {},
   "source": [
    "## What type of test we are going to use\n",
    "We want to have our model take into account that the performance starts at different levels. Then, we want to test whether allowing the effect of muscimol to differ between the two tasks explains more variance than modeling the effect of muscimol on the two tasks as the same. \n",
    "\n",
    "Statistically, we are going to use mixed-effect modeling to acheive this. We will include the sound type as a random effect, since we aren't interested in how the type of sound affected the subject's performance. Additionally, since outcomes are measured as number of successes vs. failures, we will have to do this as a logistic regression. So, we are looking at a generalized linear mixed-effect model. \n",
    "\n",
    "### Mixed models\n",
    "**Note:** There are many more (and much better) explanations of mixed models and their applications out there. Check out some of the souces at the end of this section. \n",
    "\n",
    "In regression models, the goal is to estimate some parameter as a linear combination of predictor variables, multiplied by a set of regression coefficients. Mixed effect models break predictor variables into two classes: **fixed factors** and **random factors**. Fixed factors occur when you sample across the entire population you intend to study. For instance, if you are interested in comparing the battery life across 4 brands of batteries, then you sample from those 4 battery brands and use the brand as a fixed factor. In this case, the *population* is just the 4 brands of batteries that you are testing. However, if you are interested in learning something about the *larger population* of batteries as a whole, you can treat the brand as a **random effect**. In this case, any variation due to the different brands is not necessarily indicative of the entire population, beacuse you only have a small sample of 4 brands within that larger population. However, using this kind of model you can include data from the 4 different brands together in the same analysis, while accounting for the group-level variation that could occur between the different brands. A grouping variable can be modeled as a random effect if you aren't interested in evaluating its effect on the dependent variable directly, but want to take into account the covariance that will occur between samples in a group. These kinds of models are often used in biology because data are often collected in a way that leads to groupings: \n",
    "\n",
    "* An ecologist samples barnacles across 5 sites, counting 5 areas at each site. Data are grouped by site (site is a random factor).\n",
    "* A medical study performs tests on subjects many times over a period of years. In this type of experiment (repeated measures), data are grouped by individual (individual # is a random factor).\n",
    "\n",
    "#### Random intercepts vs. random slopes\n",
    "Within a mixed effect model, there are two ways that you can specify a random effect. The random effect may only change the intercept for each group by some amount, while leaving the slope (coefficient value) for each regression term the same between all groups. Alternatively, the model can allow both the intercept and the slope of the regression to vary between the groups. \n",
    "\n",
    "### The test we will perform\n",
    "We are interested in whether the effect of muscimol varies across a grouping variable, the sound type. The effect of muscimol is what we are interested in, so that will be a fixed factor. We aren't really interested in whether the type of sound affects the performance on the task, but observations collected from within each sound type group will be correlated with each other. So, we will treat sound type as a random factor. The question we will test is whether it is better to use a *random intercept* model or a *random slope* model to explain the additional variance due to the different sound types. If a random intercept model is sufficient, then we will accept the null hypothesis that there is no difference in the size of the effect (slope, or coefficient value) of muscimol between the different sound types. However, if a random slope model has a significantly better goodness-of-fit, then we will reject the null hypothesis. \n",
    "\n",
    "\n",
    "**The plan:**\n",
    "Compare a model with random slopes (allowing the muscimol to have a different effect on chord performance and tone performance) to a model with just random intercepts (allowing chord and tone performance to start at a different level, but assuming the same effect of muscimol on each). If the random slope model explains significantly more variance than the random intercepts model, then we can conclude that the effect of muscimol is different on the two sound types. \n",
    "\n",
    "### Resources\n",
    "I relied on the following resources when learning about mixed models and working on this analysis:\n",
    "* https://www.kaggle.com/ojwatson/mixed-models\n",
    "* https://www.r-bloggers.com/random-regression-coefficients-using-lme4/\n",
    "* https://stats.stackexchange.com/questions/89521/binomial-count-data-use-glmer-lmer-or-just-average-it-all?rq=1\n",
    "* https://stats.stackexchange.com/questions/6505/likelihood-ratio-test-in-r\n",
    "* https://bookdown.org/ndphillips/YaRrr/comparing-regression-models-with-anova.html\n",
    "* https://stats.stackexchange.com/questions/96600/interactions-between-random-effects\n",
    "* http://www.bristol.ac.uk/media-library/sites/cmm/migrated/documents/random-slopes.pdf"
   ]
  },
  {
   "cell_type": "code",
   "execution_count": 5,
   "metadata": {},
   "outputs": [],
   "source": [
    "# First we import required packages\n",
    "import os\n",
    "import numpy as np\n",
    "from matplotlib import pyplot as plt\n",
    "from jaratoolbox import behavioranalysis\n",
    "from jaratoolbox import extraplots\n",
    "from jaratest.nick.behavior import soundtypes"
   ]
  },
  {
   "cell_type": "markdown",
   "metadata": {},
   "source": [
    "### Using R inside Python to fit statistical models\n",
    "While the python package `statsmodels` provides support for linear mixed-effect models and generalized linear models via a simple `function` api, the available Python implemenations of generalized linear mixed-effect models are pretty confusing (see: https://www.statsmodels.org/stable/mixed_glm.html). I don't have time to get into the weeds learning how to implement the models in Python, so I am going to use R to do it. The implementation in R is straightforward and uses the familiar function syntax. We will use the rpy2 module to run R code from our Python kernel (https://rpy2.readthedocs.io/en/version_2.8.x/)"
   ]
  },
  {
   "cell_type": "code",
   "execution_count": 3,
   "metadata": {},
   "outputs": [
    {
     "name": "stdout",
     "output_type": "stream",
     "text": [
      "2.8.6\n"
     ]
    }
   ],
   "source": [
    "# We will use rpy2 to run R code\n",
    "import rpy2\n",
    "print rpy2.__version__"
   ]
  },
  {
   "cell_type": "markdown",
   "metadata": {},
   "source": [
    "### Load data files and calculate correct and incorrect trials\n",
    "The first step is to load the data that was collected on each experimental day and calculate the animal's performance during each beahvioral session. We also have to split the trials of each session according to the type of sound that was presented. "
   ]
  },
  {
   "cell_type": "code",
   "execution_count": 117,
   "metadata": {},
   "outputs": [],
   "source": [
    "# The subject to analyze (doing a single subject at a time for now)\n",
    "animals = ['amod003']\n",
    "# Experimental sessions collected for this subject\n",
    "sessions = ['20160412a', '20160413a', '20160414a', '20160415a', '20160416a',\n",
    "               '20160417a', '20160418a', '20160419a', '20160420a', '20160421a']\n",
    "# Whether or not muscimol was injected (0: saline, 1: muscimol)\n",
    "muscimol = [0, 1, 0, 1, 0, 1, 0, 1, 0, 1]\n",
    "\n",
    "# Initialize empty lists to save results of iterating through the sessions\n",
    "allnCorr = [] #Number of correct trials\n",
    "allnVal = [] #Number of valid trials\n",
    "allfracCorr = [] #Fraction correct trials\n",
    "sessionInd = [] #Index in the list of sessions (to track time)\n",
    "animalInd = [] #Index in the list of animals (in case we do more than 1 animal at a time)\n",
    "soundType = [] #Type of sound that was presented (0: AM, 1: chords)\n",
    "muscimolInjected = [] #Muscimol or saline\n",
    "\n",
    "# Iterate through animals and behavior sessions\n",
    "for indAnimal, animal in enumerate(animals):\n",
    "    for indSession, session in enumerate(sessions):\n",
    "        # Load the data for this session, this animal, and split by the sound type presented\n",
    "        (bdataObjs, bdataSoundTypes) = soundtypes.load_behavior_sessions_sound_type(animal, [session])\n",
    "        # Iterate through the different sound types\n",
    "        for st in [0, 1]: #0 = mod, 1=chord\n",
    "            # Choose the bdata object corresponding to this sound type\n",
    "            bdata = bdataObjs[st]\n",
    "            # Calculate number of correct and valid trials\n",
    "            nCorr = sum(bdata['outcome']==bdata.labels['outcome']['correct'])\n",
    "            nVal = sum(bdata['valid'])\n",
    "            # Append values to appropriate lists\n",
    "            allfracCorr.append(nCorr.astype(float)/nVal)\n",
    "            allnCorr.append(nCorr)\n",
    "            allnVal.append(nVal)\n",
    "            sessionInd.append(indSession)\n",
    "            animalInd.append(indAnimal)\n",
    "            soundType.append(st)\n",
    "            muscimolInjected.append(muscimol[indSession])\n",
    "\n",
    "# Convert the lists to numpy arrays.\n",
    "allnCorr = np.array(allnCorr)\n",
    "allnVal = np.array(allnVal)\n",
    "allfracCorr = np.array(allfracCorr)\n",
    "sessionInd = np.array(sessionInd)\n",
    "animalInd = np.array(animalInd)\n",
    "soundType = np.array(soundType)\n",
    "muscimolInjected = np.array(muscimolInjected)"
   ]
  },
  {
   "cell_type": "markdown",
   "metadata": {},
   "source": [
    "### Chord performance is better than AM performance\n",
    "The performance for the frequency discrimination is better, but this isn't really an effect we are interested in."
   ]
  },
  {
   "cell_type": "code",
   "execution_count": 28,
   "metadata": {},
   "outputs": [
    {
     "data": {
      "image/png": "[encoded data removed]",
      "text/plain": [
       "<matplotlib.figure.Figure at 0x7fa570861310>"
      ]
     },
     "metadata": {},
     "output_type": "display_data"
    }
   ],
   "source": [
    "# Make the figure wider\n",
    "fig=plt.figure(figsize=(10, 4), dpi= 80, facecolor='w', edgecolor='k')\n",
    "\n",
    "# Plot the percentage of correct responses across sessions\n",
    "plt.plot(sessionInd[soundType==0], allfracCorr[soundType==0], 'b-o', label='AM')\n",
    "plt.plot(sessionInd[soundType==1], allfracCorr[soundType==1], 'g-o', label='Chords')\n",
    "\n",
    "plt.legend(frameon=False)\n",
    "ax = plt.gca()\n",
    "extraplots.boxoff(ax)\n",
    "ax.set_ylabel('Fraction correct')\n",
    "ax.set_ylim([.45, 1.05])\n",
    "ax.set_xticks(range(np.max(sessionInd)+1))\n",
    "# Note: If you cath the text that is returned, it won't print (which is good)\n",
    "_ = ax.set_xticklabels(['{}\\n{}'.format(ind, ['Saline', 'Muscimol'][mus]) for ind, mus in enumerate(muscimolInjected[soundType==1])])"
   ]
  },
  {
   "cell_type": "markdown",
   "metadata": {},
   "source": [
    "### Fit a simple linear model in R"
   ]
  },
  {
   "cell_type": "code",
   "execution_count": 40,
   "metadata": {},
   "outputs": [],
   "source": [
    "# First we import rpy2, which starts an R process, and then load the libraries we need\n",
    "\n",
    "from rpy2.robjects.packages import importr\n",
    "base=importr('base')\n",
    "utils=importr('utils')\n",
    "\n",
    "# I had to run this code first to install the lme4 package\n",
    "#utils.chooseCRANmirror(ind=1) # use the first CRAN mirror to install packages\n",
    "#utils.install_packages('lme4')\n",
    "\n",
    "# After install, just use this to import lme4, the library that implements the model we want to use.\n",
    "lme4=importr('lme4')"
   ]
  },
  {
   "cell_type": "code",
   "execution_count": 86,
   "metadata": {},
   "outputs": [],
   "source": [
    "# Cast our np arrays as FloatVectors to pass to R\n",
    "from rpy2 import robjects\n",
    "\n",
    "# Need the number of incorrect trials\n",
    "allnIncorr = allnVal - allnCorr\n",
    "\n",
    "# Just a sanity check here\n",
    "assert np.all(allnCorr + allnIncorr == allnVal)\n",
    "\n",
    "allnCorrR = robjects.FloatVector(allnCorr)\n",
    "allnIncorrR = robjects.FloatVector(allnIncorr)\n",
    "allnValR = robjects.FloatVector(allnVal)\n",
    "sessionIndR = robjects.FloatVector(sessionInd)\n",
    "animalIndR = robjects.FloatVector(animalInd)\n",
    "soundTypeR = robjects.FloatVector(soundType)\n",
    "muscimolInjectedR = robjects.FloatVector(muscimolInjected)\n",
    "\n",
    "# Inject these variables into the R global environment. Gross! But we do what we must. \n",
    "# Update: There are other ways to do things like this - you can define Environments\n",
    "robjects.globalenv[\"nCorr\"] = allnCorrR\n",
    "robjects.globalenv[\"nIncorr\"] = allnIncorrR\n",
    "robjects.globalenv[\"nVal\"] = allnValR\n",
    "robjects.globalenv[\"session\"] = sessionIndR\n",
    "robjects.globalenv[\"animal\"] = animalIndR\n",
    "robjects.globalenv[\"soundtype\"] = soundTypeR\n",
    "robjects.globalenv[\"muscimol\"] = muscimolInjectedR"
   ]
  },
  {
   "cell_type": "markdown",
   "metadata": {},
   "source": [
    "### The Pythonic, but less convenient, way to interact with R code\n",
    "`rpy2` allows us to import everything into the Python environment, and then interact with it in a Pythonic way. We can fit the first, random-intercept-only model using this syntax. However, the process of getting information about the model seems somewhat difficult. "
   ]
  },
  {
   "cell_type": "code",
   "execution_count": 63,
   "metadata": {},
   "outputs": [],
   "source": [
    "# Fit the model\n",
    "interceptModel = lme4.glmer('cbind(nCorr, nIncorr) ~ muscimol + (1 | soundtype)', family = 'binomial')"
   ]
  },
  {
   "cell_type": "code",
   "execution_count": 64,
   "metadata": {},
   "outputs": [
    {
     "data": {
      "text/plain": [
       "R object with classes: ('summary.merMod',) mapped to:\n",
       "<ListVector - Python:0x7fa55841a878 / R:0x556b523e8b30>\n",
       "[StrVe..., StrVe..., ListV..., ..., Float..., StrVe..., ListV...]\n",
       "  methTitle: <class 'rpy2.robjects.vectors.StrVector'>\n",
       "  R object with classes: ('character',) mapped to:\n",
       "<StrVector - Python:0x7fa570838cb0 / R:0x556b510322f8>\n",
       "[str]\n",
       "  objClass: <class 'rpy2.robjects.vectors.StrVector'>\n",
       "  R object with classes: ('character',) mapped to:\n",
       "<StrVector - Python:0x7fa5583a3fc8 / R:0x556b57b8c308>\n",
       "[str]\n",
       "R object with classes: ('summary.merMod',) mapped to:\n",
       "<ListVector - Python:0x7fa55841a878 / R:0x556b523e8b30>\n",
       "[StrVe..., StrVe..., ListV..., ..., Float..., StrVe..., ListV...]\n",
       "  ...\n",
       "  methTitle: <class 'rpy2.robjects.vectors.FloatVector'>\n",
       "  R object with classes: ('numeric',) mapped to:\n",
       "<FloatVector - Python:0x7fa5583a3f38 / R:0x556b53a8d830>\n",
       "[-1.340059, 0.346716, 0.956172, ..., 2.102353, -1.802950, 0.701507]\n",
       "  objClass: <class 'rpy2.robjects.vectors.StrVector'>\n",
       "  R object with classes: ('character',) mapped to:\n",
       "<StrVector - Python:0x7fa5583a3e60 / R:0x556b575e8630>\n",
       "[]\n",
       "R object with classes: ('summary.merMod',) mapped to:\n",
       "<ListVector - Python:0x7fa55841a878 / R:0x556b523e8b30>\n",
       "[StrVe..., StrVe..., ListV..., ..., Float..., StrVe..., ListV...]"
      ]
     },
     "execution_count": 64,
     "metadata": {},
     "output_type": "execute_result"
    }
   ],
   "source": [
    "# If we fit the model this way, the summary is not helpful. \n",
    "base.summary(interceptModel)"
   ]
  },
  {
   "cell_type": "markdown",
   "metadata": {},
   "source": [
    "### Converting to R cells on the fly\n",
    "There is an extension called `rpy2.ipython` which is truly cool, becuase it allows us to turn individual cells into R cells. I like this because I almost always want to do all the data loading, processing, and plotting in Python, and only use R for some statistical models like here. "
   ]
  },
  {
   "cell_type": "code",
   "execution_count": 67,
   "metadata": {},
   "outputs": [
    {
     "name": "stdout",
     "output_type": "stream",
     "text": [
      "The rpy2.ipython extension is already loaded. To reload it, use:\n",
      "  %reload_ext rpy2.ipython\n"
     ]
    }
   ],
   "source": [
    "# There appears to be another way to interact with the R environment, which is awesome\n",
    "%load_ext rpy2.ipython"
   ]
  },
  {
   "cell_type": "code",
   "execution_count": 85,
   "metadata": {},
   "outputs": [
    {
     "data": {
      "text/plain": [
       " [1] 335 392 279 322 311 371 341 353 383 452 322 411 425 482 241 327 376 439 245\n",
       "[20] 348\n"
      ]
     },
     "metadata": {},
     "output_type": "display_data"
    }
   ],
   "source": [
    "%%R #Just add this line here...\n",
    "\n",
    "# ...and we have access to the variables we pushed earlier\n",
    "nCorr"
   ]
  },
  {
   "cell_type": "markdown",
   "metadata": {},
   "source": [
    "### Fit the intercept-only model\n",
    "First we are going to model the data using only a random intercept. That is, we allow the intercept, or the starting point for performance, to differ between the two sound type conditions (which we know is true just from plotting the data above). In this model, the slope of the muscimol effect is kept the same between the two conditions. "
   ]
  },
  {
   "cell_type": "code",
   "execution_count": 78,
   "metadata": {},
   "outputs": [
    {
     "data": {
      "text/plain": [
       "Generalized linear mixed model fit by maximum likelihood (Laplace\n",
       "  Approximation) [glmerMod]\n",
       " Family: binomial  ( logit )\n",
       "Formula: cbind(nCorr, nIncorr) ~ muscimol + (1 | soundtype)\n",
       "\n",
       "     AIC      BIC   logLik deviance df.resid \n",
       "   200.8    203.7    -97.4    194.8       17 \n",
       "\n",
       "Scaled residuals: \n",
       "    Min      1Q  Median      3Q     Max \n",
       "-2.9266 -1.0274  0.4120  0.8819  3.7442 \n",
       "\n",
       "Random effects:\n",
       " Groups    Name        Variance Std.Dev.\n",
       " soundtype (Intercept) 0.1233   0.3512  \n",
       "Number of obs: 20, groups:  soundtype, 2\n",
       "\n",
       "Fixed effects:\n",
       "            Estimate Std. Error z value Pr(>|z|)    \n",
       "(Intercept)  1.60096    0.25135   6.369  1.9e-10 ***\n",
       "muscimol    -1.04512    0.04861 -21.499  < 2e-16 ***\n",
       "---\n",
       "Signif. codes:  0 ‘***’ 0.001 ‘**’ 0.01 ‘*’ 0.05 ‘.’ 0.1 ‘ ’ 1\n",
       "\n",
       "Correlation of Fixed Effects:\n",
       "         (Intr)\n",
       "muscimol -0.122\n"
      ]
     },
     "metadata": {},
     "output_type": "display_data"
    }
   ],
   "source": [
    "%%R\n",
    "interceptModel <- glmer(cbind(nCorr, nIncorr) ~ muscimol + (1 | soundtype), family = binomial)\n",
    "summary(interceptModel)"
   ]
  },
  {
   "cell_type": "markdown",
   "metadata": {},
   "source": [
    "### Fit the random-slope model\n",
    "Now, we model the data in a way that allows the slope of the muscimol effect to differ between the sound type conditions. If this model explains significantly more variance than the intercept-only model, we will argue that the effect of muscimol on discrimination performance for the different sound types."
   ]
  },
  {
   "cell_type": "code",
   "execution_count": 82,
   "metadata": {},
   "outputs": [
    {
     "data": {
      "text/plain": [
       "Generalized linear mixed model fit by maximum likelihood (Laplace\n",
       "  Approximation) [glmerMod]\n",
       " Family: binomial  ( logit )\n",
       "Formula: cbind(nCorr, nIncorr) ~ muscimol + (1 + muscimol | soundtype)\n",
       "\n",
       "     AIC      BIC   logLik deviance df.resid \n",
       "   191.7    196.7    -90.9    181.7       15 \n",
       "\n",
       "Scaled residuals: \n",
       "    Min      1Q  Median      3Q     Max \n",
       "-2.4401 -1.3470  0.1361  1.1716  3.0876 \n",
       "\n",
       "Random effects:\n",
       " Groups    Name        Variance Std.Dev. Corr \n",
       " soundtype (Intercept) 0.21877  0.4677        \n",
       "           muscimol    0.03251  0.1803   -1.00\n",
       "Number of obs: 20, groups:  soundtype, 2\n",
       "\n",
       "Fixed effects:\n",
       "            Estimate Std. Error z value Pr(>|z|)    \n",
       "(Intercept)   1.6319     0.3332   4.898 9.70e-07 ***\n",
       "muscimol     -1.0816     0.1370  -7.893 2.94e-15 ***\n",
       "---\n",
       "Signif. codes:  0 ‘***’ 0.001 ‘**’ 0.01 ‘*’ 0.05 ‘.’ 0.1 ‘ ’ 1\n",
       "\n",
       "Correlation of Fixed Effects:\n",
       "         (Intr)\n",
       "muscimol -0.960\n",
       "convergence code: 0\n",
       "boundary (singular) fit: see ?isSingular\n",
       "\n"
      ]
     },
     "metadata": {},
     "output_type": "display_data"
    }
   ],
   "source": [
    "%%R\n",
    "slopeModel <- glmer(cbind(nCorr, nIncorr) ~ muscimol + (1 + muscimol | soundtype), family = binomial)\n",
    "summary(slopeModel)"
   ]
  },
  {
   "cell_type": "markdown",
   "metadata": {},
   "source": [
    "### Compare the two models with ANOVA\n",
    "The R function `anova` can be used to compare the goodness-of-fit of two models. "
   ]
  },
  {
   "cell_type": "code",
   "execution_count": 79,
   "metadata": {},
   "outputs": [
    {
     "data": {
      "text/plain": [
       "Data: NULL\n",
       "Models:\n",
       "interceptModel: cbind(nCorr, nIncorr) ~ muscimol + (1 | soundtype)\n",
       "slopeModel: cbind(nCorr, nIncorr) ~ muscimol + (1 + muscimol | soundtype)\n",
       "               Df    AIC    BIC  logLik deviance Chisq Chi Df Pr(>Chisq)   \n",
       "interceptModel  3 200.76 203.74 -97.379   194.76                           \n",
       "slopeModel      5 191.73 196.71 -90.864   181.73 13.03      2   0.001481 **\n",
       "---\n",
       "Signif. codes:  0 ‘***’ 0.001 ‘**’ 0.01 ‘*’ 0.05 ‘.’ 0.1 ‘ ’ 1\n"
      ]
     },
     "metadata": {},
     "output_type": "display_data"
    }
   ],
   "source": [
    "%%R\n",
    "anova(slopeModel, interceptModel)"
   ]
  },
  {
   "cell_type": "markdown",
   "metadata": {},
   "source": [
    "The `anova` test shows that the goodness of fit is significantly different between the two models. In this case, **we reject the null hypothesis that the effect of muscimol is the same between the different sound types for this animal**."
   ]
  },
  {
   "cell_type": "markdown",
   "metadata": {},
   "source": [
    "## Perform the same test with a different animal\n",
    "We performed the test with the animal `amod003`. Let's test and see if we get the same result with `amod002`"
   ]
  },
  {
   "cell_type": "code",
   "execution_count": 118,
   "metadata": {},
   "outputs": [],
   "source": [
    "# The subject to analyze (doing a single subject at a time for now)\n",
    "animals = ['amod002']\n",
    "# Experimental sessions collected for this subject\n",
    "sessions = ['20160412a', '20160413a', '20160414a', '20160415a', '20160416a',\n",
    "               '20160417a', '20160418a', '20160419a', '20160420a', '20160421a']\n",
    "# Whether or not muscimol was injected (0: saline, 1: muscimol)\n",
    "muscimol = [0, 1, 0, 1, 0, 1, 0, 1, 0, 1]\n",
    "\n",
    "# Initialize empty lists to save results of iterating through the sessions\n",
    "allnCorr = [] #Number of correct trials\n",
    "allnVal = [] #Number of valid trials\n",
    "allfracCorr = [] #Fraction correct trials\n",
    "sessionInd = [] #Index in the list of sessions (to track time)\n",
    "animalInd = [] #Index in the list of animals (in case we do more than 1 animal at a time)\n",
    "soundType = [] #Type of sound that was presented (0: AM, 1: chords)\n",
    "muscimolInjected = [] #Muscimol or saline\n",
    "\n",
    "# Iterate through animals and behavior sessions\n",
    "for indAnimal, animal in enumerate(animals):\n",
    "    for indSession, session in enumerate(sessions):\n",
    "        # Load the data for this session, this animal, and split by the sound type presented\n",
    "        (bdataObjs, bdataSoundTypes) = soundtypes.load_behavior_sessions_sound_type(animal, [session])\n",
    "        # Iterate through the different sound types\n",
    "        for st in [0, 1]: #0 = mod, 1=chord\n",
    "            # Choose the bdata object corresponding to this sound type\n",
    "            bdata = bdataObjs[st]\n",
    "            # Calculate number of correct and valid trials\n",
    "            nCorr = sum(bdata['outcome']==bdata.labels['outcome']['correct'])\n",
    "            nVal = sum(bdata['valid'])\n",
    "            # Append values to appropriate lists\n",
    "            allfracCorr.append(nCorr.astype(float)/nVal)\n",
    "            allnCorr.append(nCorr)\n",
    "            allnVal.append(nVal)\n",
    "            sessionInd.append(indSession)\n",
    "            animalInd.append(indAnimal)\n",
    "            soundType.append(st)\n",
    "            muscimolInjected.append(muscimol[indSession])\n",
    "\n",
    "# Convert the lists to numpy arrays.\n",
    "allnCorr = np.array(allnCorr)\n",
    "allnVal = np.array(allnVal)\n",
    "allfracCorr = np.array(allfracCorr)\n",
    "sessionInd = np.array(sessionInd)\n",
    "animalInd = np.array(animalInd)\n",
    "soundType = np.array(soundType)\n",
    "muscimolInjected = np.array(muscimolInjected)"
   ]
  },
  {
   "cell_type": "code",
   "execution_count": 88,
   "metadata": {},
   "outputs": [],
   "source": [
    "# Cast our np arrays as FloatVectors to pass to R\n",
    "from rpy2 import robjects\n",
    "\n",
    "# Need the number of incorrect trials\n",
    "allnIncorr = allnVal - allnCorr\n",
    "\n",
    "# Just a sanity check here\n",
    "assert np.all(allnCorr + allnIncorr == allnVal)\n",
    "\n",
    "allnCorrR = robjects.FloatVector(allnCorr)\n",
    "allnIncorrR = robjects.FloatVector(allnIncorr)\n",
    "allnValR = robjects.FloatVector(allnVal)\n",
    "sessionIndR = robjects.FloatVector(sessionInd)\n",
    "animalIndR = robjects.FloatVector(animalInd)\n",
    "soundTypeR = robjects.FloatVector(soundType)\n",
    "muscimolInjectedR = robjects.FloatVector(muscimolInjected)\n",
    "\n",
    "# Inject these variables into the R global environment. Gross! But we do what we must. \n",
    "# Update: There are other ways to do things like this - you can define Environments\n",
    "robjects.globalenv[\"nCorr\"] = allnCorrR\n",
    "robjects.globalenv[\"nIncorr\"] = allnIncorrR\n",
    "robjects.globalenv[\"nVal\"] = allnValR\n",
    "robjects.globalenv[\"session\"] = sessionIndR\n",
    "robjects.globalenv[\"animal\"] = animalIndR\n",
    "robjects.globalenv[\"soundtype\"] = soundTypeR\n",
    "robjects.globalenv[\"muscimol\"] = muscimolInjectedR"
   ]
  },
  {
   "cell_type": "code",
   "execution_count": 119,
   "metadata": {},
   "outputs": [
    {
     "data": {
      "text/plain": [
       " [1] 404 420 306 377 433 480 294 429 430 492 329 394 453 491 276 403 382 427 282\n",
       "[20] 363 335 392 279 322 311 371 341 353 383 452 322 411 425 482 241 327 376 439\n",
       "[39] 245 348\n"
      ]
     },
     "metadata": {},
     "output_type": "display_data"
    }
   ],
   "source": [
    "%%R\n",
    "nCorr"
   ]
  },
  {
   "cell_type": "code",
   "execution_count": 115,
   "metadata": {},
   "outputs": [
    {
     "data": {
      "text/plain": [
       "Data: NULL\n",
       "Models:\n",
       "interceptModel: cbind(nCorr, nIncorr) ~ muscimol + (1 | soundtype)\n",
       "slopeModel: cbind(nCorr, nIncorr) ~ muscimol + (1 + muscimol | soundtype)\n",
       "               Df    AIC    BIC  logLik deviance  Chisq Chi Df Pr(>Chisq)\n",
       "interceptModel  3 375.95 381.02 -184.97   369.95                         \n",
       "slopeModel      5 378.36 386.80 -184.18   368.36 1.5891      2     0.4518\n"
      ]
     },
     "metadata": {},
     "output_type": "display_data"
    }
   ],
   "source": [
    "%%R\n",
    "interceptModel <- glmer(cbind(nCorr, nIncorr) ~ muscimol + (1 | soundtype), family = binomial)\n",
    "slopeModel <- glmer(cbind(nCorr, nIncorr) ~ muscimol + (1 + muscimol | soundtype), family = binomial)\n",
    "anova(slopeModel, interceptModel)"
   ]
  },
  {
   "cell_type": "markdown",
   "metadata": {},
   "source": [
    "For the animal `amod002`, switching to the random slopes model does not significantly improve the fit, and therefore we don'r reject the null hypothesis that the value of the muscimol coefficient is the same between the two sound types."
   ]
  },
  {
   "cell_type": "markdown",
   "metadata": {},
   "source": [
    "## Modeling data from multiple animals\n",
    "One of the strengths of mixed-effect modeling for neuroscience is that it allows data from multiple animals to be included together without first averaging whatever you are interested across each animal. Since data are grouped by animal, but the animal-to-animal differences aren't meaningful for this analysis, you include the animalID as an additional random effect. "
   ]
  },
  {
   "cell_type": "code",
   "execution_count": 93,
   "metadata": {},
   "outputs": [],
   "source": [
    "# The subject to analyze (doing a single subject at a time for now)\n",
    "animals = ['amod002', 'amod003']\n",
    "# Experimental sessions collected for this subject\n",
    "sessions = {'amod002':['20160412a', '20160413a', '20160414a', '20160415a', '20160416a',\n",
    "            '20160417a', '20160418a', '20160419a', '20160420a', '20160421a'],\n",
    "            'amod003':['20160412a', '20160413a', '20160414a', '20160415a', '20160416a',\n",
    "            '20160417a', '20160418a', '20160419a', '20160420a', '20160421a'],\n",
    "            'amod004;'\n",
    "# Whether or not muscimol was injected (0: saline, 1: muscimol)\n",
    "muscimol = [0, 1, 0, 1, 0, 1, 0, 1, 0, 1]\n",
    "\n",
    "# Initialize empty lists to save results of iterating through the sessions\n",
    "allnCorr = [] #Number of correct trials\n",
    "allnVal = [] #Number of valid trials\n",
    "allfracCorr = [] #Fraction correct trials\n",
    "sessionInd = [] #Index in the list of sessions (to track time)\n",
    "animalInd = [] #Index in the list of animals (in case we do more than 1 animal at a time)\n",
    "soundType = [] #Type of sound that was presented (0: AM, 1: chords)\n",
    "muscimolInjected = [] #Muscimol or saline\n",
    "\n",
    "# Iterate through animals and behavior sessions\n",
    "for indAnimal, animal in enumerate(animals):\n",
    "    for indSession, session in enumerate(sessions):\n",
    "        # Load the data for this session, this animal, and split by the sound type presented\n",
    "        (bdataObjs, bdataSoundTypes) = soundtypes.load_behavior_sessions_sound_type(animal, [session])\n",
    "        # Iterate through the different sound types\n",
    "        for st in [0, 1]: #0 = mod, 1=chord\n",
    "            # Choose the bdata object corresponding to this sound type\n",
    "            bdata = bdataObjs[st]\n",
    "            # Calculate number of correct and valid trials\n",
    "            nCorr = sum(bdata['outcome']==bdata.labels['outcome']['correct'])\n",
    "            nVal = sum(bdata['valid'])\n",
    "            # Append values to appropriate lists\n",
    "            allfracCorr.append(nCorr.astype(float)/nVal)\n",
    "            allnCorr.append(nCorr)\n",
    "            allnVal.append(nVal)\n",
    "            sessionInd.append(indSession)\n",
    "            animalInd.append(indAnimal)\n",
    "            soundType.append(st)\n",
    "            muscimolInjected.append(muscimol[indSession])\n",
    "\n",
    "# Convert the lists to numpy arrays.\n",
    "allnCorr = np.array(allnCorr)\n",
    "allnVal = np.array(allnVal)\n",
    "allfracCorr = np.array(allfracCorr)\n",
    "sessionInd = np.array(sessionInd)\n",
    "animalInd = np.array(animalInd)\n",
    "soundType = np.array(soundType)\n",
    "muscimolInjected = np.array(muscimolInjected)"
   ]
  },
  {
   "cell_type": "code",
   "execution_count": 94,
   "metadata": {},
   "outputs": [],
   "source": [
    "# Cast our np arrays as FloatVectors to pass to R\n",
    "from rpy2 import robjects\n",
    "\n",
    "# Need the number of incorrect trials\n",
    "allnIncorr = allnVal - allnCorr\n",
    "\n",
    "# Just a sanity check here\n",
    "assert np.all(allnCorr + allnIncorr == allnVal)\n",
    "\n",
    "allnCorrR = robjects.FloatVector(allnCorr)\n",
    "allnIncorrR = robjects.FloatVector(allnIncorr)\n",
    "allnValR = robjects.FloatVector(allnVal)\n",
    "sessionIndR = robjects.FloatVector(sessionInd)\n",
    "animalIndR = robjects.FloatVector(animalInd)\n",
    "soundTypeR = robjects.FloatVector(soundType)\n",
    "muscimolInjectedR = robjects.FloatVector(muscimolInjected)\n",
    "\n",
    "# Inject these variables into the R global environment. Gross! But we do what we must. \n",
    "# Update: There are other ways to do things like this - you can define Environments\n",
    "robjects.globalenv[\"nCorr\"] = allnCorrR\n",
    "robjects.globalenv[\"nIncorr\"] = allnIncorrR\n",
    "robjects.globalenv[\"nVal\"] = allnValR\n",
    "robjects.globalenv[\"session\"] = sessionIndR\n",
    "robjects.globalenv[\"animal\"] = animalIndR\n",
    "robjects.globalenv[\"soundtype\"] = soundTypeR\n",
    "robjects.globalenv[\"muscimol\"] = muscimolInjectedR"
   ]
  },
  {
   "cell_type": "code",
   "execution_count": 95,
   "metadata": {},
   "outputs": [
    {
     "data": {
      "text/plain": [
       " [1] 404 420 306 377 433 480 294 429 430 492 329 394 453 491 276 403 382 427 282\n",
       "[20] 363 335 392 279 322 311 371 341 353 383 452 322 411 425 482 241 327 376 439\n",
       "[39] 245 348\n"
      ]
     },
     "metadata": {},
     "output_type": "display_data"
    }
   ],
   "source": [
    "%%R\n",
    "nCorr"
   ]
  },
  {
   "cell_type": "code",
   "execution_count": 99,
   "metadata": {},
   "outputs": [
    {
     "data": {
      "text/plain": [
       "Generalized linear mixed model fit by maximum likelihood (Laplace\n",
       "  Approximation) [glmerMod]\n",
       " Family: binomial  ( logit )\n",
       "Formula: cbind(nCorr, nIncorr) ~ muscimol + (1 | soundtype) + (1 | animal)\n",
       "\n",
       "     AIC      BIC   logLik deviance df.resid \n",
       "   377.7    384.4   -184.8    369.7       36 \n",
       "\n",
       "Scaled residuals: \n",
       "    Min      1Q  Median      3Q     Max \n",
       "-3.2089 -1.2070  0.1309  1.0347  3.8077 \n",
       "\n",
       "Random effects:\n",
       " Groups    Name        Variance  Std.Dev.\n",
       " soundtype (Intercept) 0.1253504 0.35405 \n",
       " animal    (Intercept) 0.0004853 0.02203 \n",
       "Number of obs: 40, groups:  soundtype, 2; animal, 2\n",
       "\n",
       "Fixed effects:\n",
       "            Estimate Std. Error z value Pr(>|z|)    \n",
       "(Intercept)   1.6500     0.2523   6.539 6.18e-11 ***\n",
       "muscimol     -1.0856     0.0340 -31.933  < 2e-16 ***\n",
       "---\n",
       "Signif. codes:  0 ‘***’ 0.001 ‘**’ 0.01 ‘*’ 0.05 ‘.’ 0.1 ‘ ’ 1\n",
       "\n",
       "Correlation of Fixed Effects:\n",
       "         (Intr)\n",
       "muscimol -0.086\n"
      ]
     },
     "metadata": {},
     "output_type": "display_data"
    }
   ],
   "source": [
    "%%R\n",
    "interceptModel <- glmer(cbind(nCorr, nIncorr) ~ muscimol + (1 | soundtype) + (1 | animal), family = binomial)\n",
    "summary(interceptModel)"
   ]
  },
  {
   "cell_type": "code",
   "execution_count": 116,
   "metadata": {},
   "outputs": [
    {
     "data": {
      "text/plain": [
       "Generalized linear mixed model fit by maximum likelihood (Laplace\n",
       "  Approximation) [glmerMod]\n",
       " Family: binomial  ( logit )\n",
       "Formula: cbind(nCorr, nIncorr) ~ muscimol + (1 + muscimol | soundtype) +  \n",
       "    (1 | animal)\n",
       "\n",
       "     AIC      BIC   logLik deviance df.resid \n",
       "   380.1    390.2   -184.0    368.1       34 \n",
       "\n",
       "Scaled residuals: \n",
       "    Min      1Q  Median      3Q     Max \n",
       "-3.0087 -1.2625  0.1258  1.0032  3.6479 \n",
       "\n",
       "Random effects:\n",
       " Groups    Name        Variance  Std.Dev. Corr \n",
       " soundtype (Intercept) 0.1461025 0.38223       \n",
       "           muscimol    0.0019075 0.04367  -1.00\n",
       " animal    (Intercept) 0.0004782 0.02187       \n",
       "Number of obs: 40, groups:  soundtype, 2; animal, 2\n",
       "\n",
       "Fixed effects:\n",
       "            Estimate Std. Error z value Pr(>|z|)    \n",
       "(Intercept)  1.65687    0.27216   6.088 1.14e-09 ***\n",
       "muscimol    -1.09396    0.04646 -23.546  < 2e-16 ***\n",
       "---\n",
       "Signif. codes:  0 ‘***’ 0.001 ‘**’ 0.01 ‘*’ 0.05 ‘.’ 0.1 ‘ ’ 1\n",
       "\n",
       "Correlation of Fixed Effects:\n",
       "         (Intr)\n",
       "muscimol -0.722\n",
       "convergence code: 0\n",
       "boundary (singular) fit: see ?isSingular\n",
       "\n"
      ]
     },
     "metadata": {},
     "output_type": "display_data"
    }
   ],
   "source": [
    "%%R\n",
    "slopeModel <- glmer(cbind(nCorr, nIncorr) ~ muscimol + (1 + muscimol | soundtype) + (1 | animal), family = binomial)\n",
    "summary(slopeModel)"
   ]
  },
  {
   "cell_type": "code",
   "execution_count": 110,
   "metadata": {},
   "outputs": [
    {
     "data": {
      "text/plain": [
       "Data: NULL\n",
       "Models:\n",
       "interceptModel: cbind(nCorr, nIncorr) ~ muscimol + (1 | soundtype) + (1 | animal)\n",
       "slopeModel: cbind(nCorr, nIncorr) ~ muscimol + (1 + muscimol | soundtype) + \n",
       "slopeModel:     (1 | animal:soundtype)\n",
       "               Df    AIC    BIC  logLik deviance  Chisq Chi Df Pr(>Chisq)\n",
       "interceptModel  4 377.68 384.44 -184.84   369.68                         \n",
       "slopeModel      6 380.36 390.49 -184.18   368.36 1.3246      2     0.5157\n"
      ]
     },
     "metadata": {},
     "output_type": "display_data"
    }
   ],
   "source": [
    "%%R\n",
    "anova(interceptModel, slopeModel)"
   ]
  },
  {
   "cell_type": "markdown",
   "metadata": {},
   "source": [
    "So, when we look at all the data together it appears that attempting to model different muscimol effects for each sound type does not significantly increase the goodness-of-fit of the model. "
   ]
  },
  {
   "cell_type": "markdown",
   "metadata": {},
   "source": [
    "### A model with a fixed effect for soundtype\n",
    "Let's try doing a model with a fixed effect for soundtype. We can then look at interactions between soundtype and muscimol in the more traditional linear model way. We still need to include the random effect related to the different animal groups. Also, it makes sense here to allow the coefficient for the effect of soundtype to vary between animals as well (as a random slope). "
   ]
  },
  {
   "cell_type": "code",
   "execution_count": 114,
   "metadata": {},
   "outputs": [
    {
     "data": {
      "text/plain": [
       "Generalized linear mixed model fit by maximum likelihood (Laplace\n",
       "  Approximation) [glmerMod]\n",
       " Family: binomial  ( logit )\n",
       "Formula: cbind(nCorr, nIncorr) ~ muscimol * soundtype + (1 + soundtype |  \n",
       "    animal)\n",
       "\n",
       "     AIC      BIC   logLik deviance df.resid \n",
       "   369.5    381.3   -177.7    355.5       33 \n",
       "\n",
       "Scaled residuals: \n",
       "    Min      1Q  Median      3Q     Max \n",
       "-3.1010 -1.1587  0.2452  0.9198  3.5361 \n",
       "\n",
       "Random effects:\n",
       " Groups Name        Variance  Std.Dev.  Corr\n",
       " animal (Intercept) 0.000e+00 0.000e+00     \n",
       "        soundtype   1.182e-18 1.087e-09  NaN\n",
       "Number of obs: 40, groups:  animal, 2\n",
       "\n",
       "Fixed effects:\n",
       "                   Estimate Std. Error z value Pr(>|z|)    \n",
       "(Intercept)         1.27475    0.03412  37.360   <2e-16 ***\n",
       "muscimol           -1.05032    0.04401 -23.867   <2e-16 ***\n",
       "soundtype           0.76544    0.05585  13.705   <2e-16 ***\n",
       "muscimol:soundtype -0.08770    0.06944  -1.263    0.207    \n",
       "---\n",
       "Signif. codes:  0 ‘***’ 0.001 ‘**’ 0.01 ‘*’ 0.05 ‘.’ 0.1 ‘ ’ 1\n",
       "\n",
       "Correlation of Fixed Effects:\n",
       "            (Intr) muscml sndtyp\n",
       "muscimol    -0.775              \n",
       "soundtype   -0.611  0.474       \n",
       "mscml:sndty  0.491 -0.634 -0.804\n",
       "convergence code: 0\n",
       "boundary (singular) fit: see ?isSingular\n",
       "\n"
      ]
     },
     "metadata": {},
     "output_type": "display_data"
    }
   ],
   "source": [
    "%%R\n",
    "fixedModel <- glmer(cbind(nCorr, nIncorr) ~ muscimol * soundtype + (1 + soundtype | animal), family = binomial)\n",
    "summary(fixedModel)"
   ]
  },
  {
   "cell_type": "markdown",
   "metadata": {},
   "source": [
    "If we model soundtype as a fixed effect, we see that both the muscimol and the soundtype terms are significant, but that the interaction term is not. This is consistent with the results of our model comparisons above, in that it does not allow us to reject the null hypothesis that the effect of muscimol does not differ between sound types. "
   ]
  },
  {
   "cell_type": "markdown",
   "metadata": {},
   "source": [
    "# Conclusion\n",
    "In a single animal, `amod003`, we found that the effect of muscimol inactivation on the ratio of correct to incorrect trials varied between the two sound types, with the muscimol coefficient estimate being slightly less negative for the Chords than for the AM sounds. However, a separate analysis of subject `amod002` did not lead us to reject the null hypothesis that the effect of muscimol is the same between both sound types. When we combined the data from these two animals into a single model (a strength of the generalized linear mixed-effect model) we similarly found that we could not reject the null hypothesis that the effect of muscimol is consistent across sound types. \n",
    "\n",
    "As a small and easily acheivable future direction, I should add in data from more animals."
   ]
  },
  {
   "cell_type": "code",
   "execution_count": null,
   "metadata": {},
   "outputs": [],
   "source": []
  }
 ],
 "metadata": {
  "kernelspec": {
   "display_name": "Python 2",
   "language": "python",
   "name": "python2"
  },
  "language_info": {
   "codemirror_mode": {
    "name": "ipython",
    "version": 2
   },
   "file_extension": ".py",
   "mimetype": "text/x-python",
   "name": "python",
   "nbconvert_exporter": "python",
   "pygments_lexer": "ipython2",
   "version": "2.7.15"
  }
 },
 "nbformat": 4,
 "nbformat_minor": 2
}
