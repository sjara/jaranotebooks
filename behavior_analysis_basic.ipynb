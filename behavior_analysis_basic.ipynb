{
 "cells": [
  {
   "cell_type": "markdown",
   "metadata": {},
   "source": [
    "# Loading and analyzing behavior data\n",
    "\n",
    "This notebook describes how to load and analyze behavior data from the Jaramillo lab.\n",
    "\n",
    "## Prerequisites:\n",
    "* Install [jaratoolbox](https://github.com/sjara/jaratoolbox) (following instructions from our lab's wiki page \"Installing jaratoolbox\")\n",
    "* Set `BEHAVIOR_PATH` in your `jaratoolbox/settings.py`.\n",
    "* Copy some data to that path."
   ]
  },
  {
   "cell_type": "markdown",
   "metadata": {},
   "source": [
    "## Loading a single behavior file"
   ]
  },
  {
   "cell_type": "code",
   "execution_count": 1,
   "metadata": {},
   "outputs": [],
   "source": [
    "from jaratoolbox import loadbehavior\n",
    "\n",
    "subject = 'chad029'    # The name of the mouse\n",
    "paradigm = 'twochoice' # The paradigm name is also part of the data file name\n",
    "session = '20200317a'  # The format is usually YYYYMMDD and a short suffix\n",
    "behavFile = loadbehavior.path_to_behavior_data(subject,paradigm,session)\n",
    "bdata = loadbehavior.BehaviorData(behavFile)"
   ]
  },
  {
   "cell_type": "markdown",
   "metadata": {},
   "source": [
    "## How the data is stored\n",
    "The object `bdata` is like a Python dictionary. "
   ]
  },
  {
   "cell_type": "code",
   "execution_count": 2,
   "metadata": {},
   "outputs": [
    {
     "data": {
      "text/plain": [
       "{'highFreq': array([13000, 13000, 13000, ..., 13000, 13000, 13000]),\n",
       " 'interTrialInterval': array([ 4.787,  4.003,  3.681, ...,  3.311,  4.856,  4.108]),\n",
       " 'interTrialIntervalHalfRange': array([1, 1, 1, ..., 1, 1, 1]),\n",
       " 'interTrialIntervalMean': array([4, 4, 4, ..., 4, 4, 4]),\n",
       " 'lowFreq': array([6000, 6000, 6000, ..., 6000, 6000, 6000]),\n",
       " 'nErrorsLeft': array([ 0,  0,  0, ..., 24, 24, 24]),\n",
       " 'nErrorsRight': array([ 0,  0,  0, ..., 11, 11, 11]),\n",
       " 'nFalseAlarms': array([   0,    0,    0, ..., 1279, 1279, 1279]),\n",
       " 'nHitsLeft': array([  0,   0,   0, ..., 269, 269, 269]),\n",
       " 'nHitsRight': array([  0,   0,   0, ..., 303, 303, 303]),\n",
       " 'nMissesLeft': array([ 0,  0,  1, ..., 94, 95, 95]),\n",
       " 'nMissesRight': array([ 0,  1,  1, ..., 71, 71, 72]),\n",
       " 'outcome': array([2, 2, 1, ..., 2, 2, 2]),\n",
       " 'psycurveMode': array([1, 1, 1, ..., 1, 1, 1]),\n",
       " 'psycurveNsteps': array([6, 6, 6, ..., 6, 6, 6]),\n",
       " 'rewardAvailability': array([1, 1, 1, ..., 1, 1, 1]),\n",
       " 'rewardSide': array([1, 0, 1, ..., 0, 1, 0]),\n",
       " 'rewardSideMode': array([1, 1, 1, ..., 1, 1, 1]),\n",
       " 'targetAmplitude': array([ 0.0032,  0.0032,  0.0032, ...,  0.0032,  0.0032,  0.0032]),\n",
       " 'targetDuration': array([ 0.2,  0.2,  0.2, ...,  0.2,  0.2,  0.2]),\n",
       " 'targetFrequency': array([11137,  7003, 13000, ...,  7003, 11137,  8175]),\n",
       " 'targetIntensity': array([50, 50, 50, ..., 50, 50, 50]),\n",
       " 'taskMode': array([2, 2, 2, ..., 2, 2, 2]),\n",
       " 'timeWaterValve': array([ 0.03,  0.03,  0.03, ...,  0.03,  0.03,  0.03])}"
      ]
     },
     "execution_count": 2,
     "metadata": {},
     "output_type": "execute_result"
    }
   ],
   "source": [
    "bdata"
   ]
  },
  {
   "cell_type": "markdown",
   "metadata": {},
   "source": [
    "Each key contains an array, and all arrays have the same length (equal to the number of trials in the session)."
   ]
  },
  {
   "cell_type": "code",
   "execution_count": 3,
   "metadata": {},
   "outputs": [
    {
     "data": {
      "text/plain": [
       "2054"
      ]
     },
     "execution_count": 3,
     "metadata": {},
     "output_type": "execute_result"
    }
   ],
   "source": [
    "len(bdata['targetFrequency'])"
   ]
  },
  {
   "cell_type": "code",
   "execution_count": 4,
   "metadata": {},
   "outputs": [
    {
     "data": {
      "text/plain": [
       "2054"
      ]
     },
     "execution_count": 4,
     "metadata": {},
     "output_type": "execute_result"
    }
   ],
   "source": [
    "len(bdata['outcome'])"
   ]
  },
  {
   "cell_type": "markdown",
   "metadata": {},
   "source": [
    "You will notice that some arrays (like `bdata['outcome']`) contain integers, but it is not clear what each number means. To find that out, `bdata` has a property called `bdata.labels`, with dictionaries that associate each integer to its meaning."
   ]
  },
  {
   "cell_type": "code",
   "execution_count": 5,
   "metadata": {},
   "outputs": [
    {
     "data": {
      "text/plain": [
       "{-1: 'none',\n",
       " 0: 'error',\n",
       " 1: 'hit',\n",
       " 2: 'miss',\n",
       " 3: 'falseAlarm',\n",
       " 'error': 0,\n",
       " 'falseAlarm': 3,\n",
       " 'hit': 1,\n",
       " 'miss': 2,\n",
       " 'none': -1}"
      ]
     },
     "execution_count": 5,
     "metadata": {},
     "output_type": "execute_result"
    }
   ],
   "source": [
    "bdata.labels['outcome']"
   ]
  },
  {
   "cell_type": "markdown",
   "metadata": {},
   "source": [
    "Note that this dictionary can be used to map numbers to meaning or the other way around."
   ]
  },
  {
   "cell_type": "code",
   "execution_count": 6,
   "metadata": {},
   "outputs": [
    {
     "data": {
      "text/plain": [
       "'hit'"
      ]
     },
     "execution_count": 6,
     "metadata": {},
     "output_type": "execute_result"
    }
   ],
   "source": [
    "bdata.labels['outcome'][1]"
   ]
  },
  {
   "cell_type": "code",
   "execution_count": 7,
   "metadata": {},
   "outputs": [
    {
     "data": {
      "text/plain": [
       "1"
      ]
     },
     "execution_count": 7,
     "metadata": {},
     "output_type": "execute_result"
    }
   ],
   "source": [
    "bdata.labels['outcome']['hit']"
   ]
  },
  {
   "cell_type": "markdown",
   "metadata": {},
   "source": [
    "# How to find all trials of a particular type\n",
    "If we have the array for *outcomes*, we can find out which trials were *hits* with code like this:"
   ]
  },
  {
   "cell_type": "code",
   "execution_count": 8,
   "metadata": {},
   "outputs": [
    {
     "data": {
      "text/plain": [
       "array([False, False,  True, ..., False, False, False], dtype=bool)"
      ]
     },
     "execution_count": 8,
     "metadata": {},
     "output_type": "execute_result"
    }
   ],
   "source": [
    "bdata['outcome']==bdata.labels['outcome']['hit']"
   ]
  }
 ],
 "metadata": {
  "kernelspec": {
   "display_name": "Python 3",
   "language": "python",
   "name": "python3"
  },
  "language_info": {
   "codemirror_mode": {
    "name": "ipython",
    "version": 3
   },
   "file_extension": ".py",
   "mimetype": "text/x-python",
   "name": "python",
   "nbconvert_exporter": "python",
   "pygments_lexer": "ipython3",
   "version": "3.6.9"
  }
 },
 "nbformat": 4,
 "nbformat_minor": 2
}
