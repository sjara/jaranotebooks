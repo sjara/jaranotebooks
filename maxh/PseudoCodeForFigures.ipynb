{
 "cells": [
  {
   "cell_type": "code",
   "execution_count": null,
   "metadata": {},
   "outputs": [],
   "source": [
    "timeRange = [-0.3, 0.45]"
   ]
  },
  {
   "cell_type": "markdown",
   "metadata": {},
   "source": [
    "Raster Plot of spikes during TuningFreq"
   ]
  },
  {
   "cell_type": "code",
   "execution_count": null,
   "metadata": {},
   "outputs": [],
   "source": [
    "ephysData, bdata = oneCell.load('session')  \n",
    "spikeTimes = ephysData['spikeTimes']\n",
    "eventOnsetTimes = ephysData['events']['stimOn']\n",
    "\n",
    "(spikeTimesFromEventOnset, trialIndexForEachSpike, indexLimitsEachTrial) = spikesanalysis.eventlocked_spiketimes(spikeTimes, eventOnsetTimes, timeRange)\n",
    "\n",
    "frequencies_each_trial = bdata['currentFreq']\n",
    "array_of_frequencies = np.unique(bdata['currentFreq'])\n",
    "\n",
    "trialsEachCond = behavioranalysis.find_trials_each_type(frequencies_each_trial, array_of_frequencies)\n",
    "\n",
    "\n",
    "\n",
    "\n",
    "fRaster = extraplots.raster_plot(spikeTimesFromEventOnset, indexLimitsEachTrial, timeRange, trialsEachCond)"
   ]
  },
  {
   "cell_type": "markdown",
   "metadata": {},
   "source": [
    "Tuning Curve\n"
   ]
  },
  {
   "cell_type": "code",
   "execution_count": null,
   "metadata": {},
   "outputs": [],
   "source": [
    "# total time of spikes to include around trial\n",
    "trialTime = timeRange[1] - timeRange[0]\n",
    "\n",
    "nTrials = len(indexLimitsEachTrial[0])\n",
    "\n",
    "#get trial index for each condition\n",
    "trialsEachCondInds, nTrialsEachCond, nCond= trials_each_cond_inds(trialsEachCond, nTrials)\n",
    "\n",
    "nCond = len(trialsEachCondInds)\n",
    "\n",
    "spike_counts = np.zeros(nCond)\n",
    "\n",
    "# For each condition, loop through each trial and get the spike count according to the indexLimits, divide the spike count by the total trial time, \n",
    "# then add this average to a new array. Divide each condition's sum of average by the number of trials to get each condition's average firing rate.\n",
    "for cond in range(nCond):\n",
    "    trials = trialsEachCondInds[cond]\n",
    "    n_trials = len(trials)\n",
    "    for trial in trials:\n",
    "        spike_count = indexLimitsEachTrial[1, trial] - indexLimitsEachTrial[0, trial]\n",
    "        spike_count = spike_count / trialTime\n",
    "        spike_counts[cond] += spike_count\n",
    "    spike_average[cond] = spike_count[cond] / n_trials\n",
    "\n",
    "\n",
    "plot(x: array_of_frequencies, y: spike_average )"
   ]
  },
  {
   "cell_type": "markdown",
   "metadata": {},
   "source": [
    "Paired Comparison Plot for change in max firing rate during tuningFreq\n",
    "(X: saline & doi columns, Y: firing rate)\n"
   ]
  },
  {
   "cell_type": "code",
   "execution_count": null,
   "metadata": {},
   "outputs": [],
   "source": [
    "\n",
    "# Load data for saline and DOI, lock spiketimes to event.\n",
    "ephysData, bdata = oneCell.load('saline')\n",
    "spiketimes, etc\n",
    "ephysData, bdata = oneCell.load('DOI')\n",
    "spiketimes, etc  \n",
    "\n",
    "#Calculate average firing rate using a similar function as above.\n",
    "# Instead of adding the firing rates together, append the array and add each firing rate to it.\n",
    "spike_average_DOI\n",
    "spike_average_saline\n",
    "\n",
    "# Get the max firing rate for DOI and saline for each condition\n",
    "max_value_DOI = 0\n",
    "for avg,ind in spike_average_DOI[ind]:\n",
    "    if avg >= max_value_odd:\n",
    "        max_value_DOI = avg\n",
    "\n",
    "\n",
    "\n",
    "\n",
    "axes = plt.subplot()\n",
    "\n",
    "# Function for plot. Change accordingly\n",
    "def plot_laser_comparison(axes, data, laserColour, laserFaceColour, yLim, xticklabels):\n",
    "    barLoc = np.array([-0.24, 0.24])\n",
    "\n",
    "    for indMouse in range(data[0].shape[0]):\n",
    "        plt.plot(barLoc, [data[0][indMouse], data[1][indMouse]], '-', color=figparams.colp['connectLine'])\n",
    "\n",
    "    plt.plot(np.tile(barLoc[0], data[0].shape[0]), data[0], 'o', color=figparams.colp['baseline'], ms=figparams.markerSize)\n",
    "    plt.plot(np.tile(barLoc[1], data[1].shape[0]), data[1], 'o', mec=laserColour, mfc=laserFaceColour, ms=figparams.markerSize)\n",
    "\n",
    "    # median = np.median(accuracyData, axis=0)\n",
    "    # plt.plot(thisxLocs, median[bandsToUse], 'o-', color='k')\n",
    "\n",
    "    axes.set_xlim(barLoc[0] - 0.2, barLoc[1] + 0.2)\n",
    "    axes.set_xticks(barLoc)\n",
    "    axes.set_xticklabels(xticklabels)\n",
    "    axes.set_ylim(yLim)\n",
    "\n",
    "    extraplots.boxoff(axes)\n",
    "    extraplots.set_ticks_fontsize(axes, figparams.fontSizeTicks)\n",
    "\n",
    "    pVal = stats.wilcoxon(data[1], data[0])\n",
    "    print(f\"Change in pVal: {pVal}\")\n",
    "\n",
    "    if pVal[1] < 0.05:\n",
    "        extraplots.significance_stars(barLoc, 0.98 * yLim[1], 0.02 * np.diff(yLim), gapFactor=0.3)\n",
    "\n",
    "\n",
    "def plot_laser_comparison(axes, [spike_average_DOI, spike_average_saline], laserColour, laserFaceColour, yLim, xticklabels):\n",
    "\n",
    "\n",
    "plot(X: saline & doi columns, Y: firing rate)\n"
   ]
  },
  {
   "cell_type": "markdown",
   "metadata": {},
   "source": [
    "Paired Comparison Plot for shift in firing rate peak location during tuningFreq\n",
    "(X: saline & doi columns, Y: frequency\n",
    "\n"
   ]
  },
  {
   "cell_type": "code",
   "execution_count": null,
   "metadata": {},
   "outputs": [],
   "source": [
    "\n",
    "spike_average_DOI\n",
    "spike_average_saline\n",
    "\n",
    "#Calculate peak area. (What if there is no peak?)\n",
    "\n",
    "\n",
    "plot(X: saline & doi columns, Y: frequency\n"
   ]
  },
  {
   "cell_type": "markdown",
   "metadata": {},
   "source": [
    "Oddball Plots"
   ]
  },
  {
   "cell_type": "markdown",
   "metadata": {},
   "source": [
    "Raster plot of stimulus presentation showing highFreq as Oddball (X: time, y: frequency presented)\n",
    "\n",
    "EG:   _ _ _ _ - _ _ \n",
    "\n",
    "Can use fake data?"
   ]
  },
  {
   "cell_type": "code",
   "execution_count": null,
   "metadata": {},
   "outputs": [],
   "source": [
    "\n",
    "\n",
    "TrialsByCondition: {[false, false, false ,false ,true, false, false, false],[true, true, true, true, false, true, true ,true]}\n",
    "\n",
    "x = time\n",
    "#Can use fake data or use real times of stimulus presentation\n"
   ]
  },
  {
   "cell_type": "markdown",
   "metadata": {},
   "source": [
    "Raster plot of stimulus presentation showing HighFreq as standard (X: time, y: frequency presented) \n",
    "\n",
    "eg: - - - - - _ - - - -"
   ]
  },
  {
   "cell_type": "code",
   "execution_count": null,
   "metadata": {},
   "outputs": [],
   "source": []
  },
  {
   "cell_type": "markdown",
   "metadata": {},
   "source": [
    "PSTH of oddball vs standard when pre (or saline)"
   ]
  },
  {
   "cell_type": "code",
   "execution_count": null,
   "metadata": {},
   "outputs": [],
   "source": [
    "#Normal PSTH\n",
    "extraplots.plot_psth(spikeCountMatHighPre/binWidth, smoothWinSizePsth, timeVec, combinedTrialsHighPre, colorsEachCond, linestyle=None, linewidth=lwPsth, downsamplefactor=downsampleFactorPsth)"
   ]
  },
  {
   "cell_type": "markdown",
   "metadata": {},
   "source": [
    "PSTH of oddball vs standard when DOI"
   ]
  },
  {
   "cell_type": "code",
   "execution_count": null,
   "metadata": {},
   "outputs": [],
   "source": [
    "#Normal PSTH\n",
    "extraplots.plot_psth(spikeCountMatHighPre/binWidth, smoothWinSizePsth, timeVec, combinedTrialsHighPre, colorsEachCond, linestyle=None, linewidth=lwPsth, downsamplefactor=downsampleFactorPsth)"
   ]
  },
  {
   "cell_type": "markdown",
   "metadata": {},
   "source": [
    "Plot showing the change in index ((odd-stand)/(odd+stand)) between saline and DOI (x: saline-doi columns, y: index between -1 and 1) for multiple sessions. "
   ]
  },
  {
   "cell_type": "code",
   "execution_count": null,
   "metadata": {},
   "outputs": [],
   "source": [
    "#Calculate index:\n",
    "\n",
    "#only want spikes during timeRange [0.0, 0.1].\n",
    "\n",
    "timeRange = [0, 0.1]\n",
    "\n",
    "(spikeTimesFromEventOnset, trialIndexForEachSpike, indexLimitsEachTrial) = spikesanalysis.eventlocked_spiketimes(spikeTimes, eventOnsetTimes, timeRange)\n",
    "\n",
    "\n",
    "spike_average_oddball\n",
    "spike_average_standard\n",
    "\n",
    "max_value_odd = 0\n",
    "for avg in spike_average_oddball:\n",
    "    if avg >= max_value_odd:\n",
    "        max_value_odd = avg\n",
    "\n",
    "# Do the same for standard and for DOI\n",
    "\n",
    "standard_index = (max_value_odd - max_value_standard)/(max_value_odd + max_value_standard)\n",
    "\n",
    "\n",
    "\n",
    "plot_laser_comparison(axes, [spike_average_DOI, spike_average_saline], laserColour, laserFaceColour, yLim, xticklabels)\n"
   ]
  }
 ],
 "metadata": {
  "kernelspec": {
   "display_name": "Python 3.8.10 64-bit",
   "language": "python",
   "name": "python3"
  },
  "language_info": {
   "name": "python",
   "version": "3.8.10"
  },
  "orig_nbformat": 4,
  "vscode": {
   "interpreter": {
    "hash": "767d51c1340bd893661ea55ea3124f6de3c7a262a8b4abca0554b478b1e2ff90"
   }
  }
 },
 "nbformat": 4,
 "nbformat_minor": 2
}
