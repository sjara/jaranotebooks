{
 "cells": [
  {
   "cell_type": "code",
   "execution_count": 1,
   "metadata": {
    "collapsed": true
   },
   "outputs": [],
   "source": [
    "import sklearn.neighbors"
   ]
  },
  {
   "cell_type": "code",
   "execution_count": 2,
   "metadata": {
    "collapsed": false
   },
   "outputs": [
    {
     "name": "stdout",
     "output_type": "stream",
     "text": [
      "Populating the interactive namespace from numpy and matplotlib\n"
     ]
    }
   ],
   "source": [
    "%pylab inline"
   ]
  },
  {
   "cell_type": "code",
   "execution_count": 3,
   "metadata": {
    "collapsed": false
   },
   "outputs": [],
   "source": [
    "euc = sklearn.neighbors.DistanceMetric.get_metric('euclidean')"
   ]
  },
  {
   "cell_type": "code",
   "execution_count": 4,
   "metadata": {
    "collapsed": false
   },
   "outputs": [],
   "source": [
    "from jaratoolbox import loadopenephys\n",
    "from jaratoolbox import spikesorting\n",
    "from jaratoolbox.test.nick import clustercutting\n",
    "from matplotlib import pyplot as plt\n",
    "import os\n",
    "import numpy as np"
   ]
  },
  {
   "cell_type": "code",
   "execution_count": 5,
   "metadata": {
    "collapsed": true
   },
   "outputs": [],
   "source": [
    "animalName='pinp013'\n",
    "ephysLoc = '/home/nick/data/ephys/'\n",
    "ephysPath = os.path.join(ephysLoc, animalName)\n",
    "ephysFn='2016-05-27_14-13-26'\n",
    "tetrode=3\n",
    "spikesFn = os.path.join(ephysPath, ephysFn, 'Tetrode{}.spikes'.format(tetrode))\n",
    "dataSpikes = loadopenephys.DataSpikes(spikesFn)"
   ]
  },
  {
   "cell_type": "code",
   "execution_count": 6,
   "metadata": {
    "collapsed": false
   },
   "outputs": [
    {
     "data": {
      "text/plain": [
       "10111"
      ]
     },
     "execution_count": 6,
     "metadata": {},
     "output_type": "execute_result"
    }
   ],
   "source": [
    "len(dataSpikes.samples)"
   ]
  },
  {
   "cell_type": "code",
   "execution_count": 7,
   "metadata": {
    "collapsed": false
   },
   "outputs": [],
   "source": [
    "#GAIN = 5000.0\n",
    "#SAMPLING_RATE=30000.0\n",
    "#dataSpikes.samples = ((dataSpikes.samples - 32768.0) / GAIN) * 1000.0\n",
    "#dataSpikes.timestamps = dataSpikes.timestamps/SAMPLING_RATE\n",
    "\n",
    "(numSpikes, numChans, numSamples) = shape(dataSpikes.samples)\n",
    "allWaves = dataSpikes.samples.reshape(numSpikes, numChans*numSamples)"
   ]
  },
  {
   "cell_type": "code",
   "execution_count": 8,
   "metadata": {
    "collapsed": true
   },
   "outputs": [],
   "source": [
    "spikesToUse = random.randint(len(allWaves), size=1000) #Only use some of the spikes for now\n",
    "wavesToUse = allWaves[spikesToUse, :]"
   ]
  },
  {
   "cell_type": "code",
   "execution_count": 9,
   "metadata": {
    "collapsed": true
   },
   "outputs": [],
   "source": [
    "X_dist = euc.pairwise(wavesToUse)"
   ]
  },
  {
   "cell_type": "code",
   "execution_count": 10,
   "metadata": {
    "collapsed": false
   },
   "outputs": [],
   "source": [
    "from sklearn.manifold import TSNE"
   ]
  },
  {
   "cell_type": "code",
   "execution_count": 11,
   "metadata": {
    "collapsed": false
   },
   "outputs": [
    {
     "name": "stdout",
     "output_type": "stream",
     "text": [
      "[t-SNE] Computing pairwise distances...\n",
      "[t-SNE] Computing 91 nearest neighbors...\n",
      "[t-SNE] Computed conditional probabilities for sample 1000 / 1000\n",
      "[t-SNE] Mean sigma: 312.274894\n",
      "[t-SNE] Iteration 25: error = 1.3697388, gradient norm = 0.0179968\n",
      "[t-SNE] Iteration 50: error = 1.3613247, gradient norm = 0.0181911\n",
      "[t-SNE] Iteration 75: error = 1.0027137, gradient norm = 0.0101352\n",
      "[t-SNE] Iteration 100: error = 1.0242578, gradient norm = 0.0123768\n",
      "[t-SNE] KL divergence after 100 iterations with early exaggeration: 1.024258\n",
      "[t-SNE] Iteration 125: error = 0.9281195, gradient norm = 0.0076184\n",
      "[t-SNE] Iteration 150: error = 0.9502608, gradient norm = 0.0094917\n",
      "[t-SNE] Iteration 175: error = 0.9646636, gradient norm = 0.0107351\n",
      "[t-SNE] Iteration 175: did not make any progress during the last 30 episodes. Finished.\n",
      "[t-SNE] Error after 175 iterations: 1.024258\n",
      "ELAPSED TIME: 0.0862698833148 mins\n"
     ]
    }
   ],
   "source": [
    "import timeit\n",
    "start_time = timeit.default_timer()\n",
    "\n",
    "model = TSNE(n_components=2, method='barnes_hut', verbose=20, n_iter=1000)\n",
    "Y = model.fit_transform(wavesToUse)\n",
    "\n",
    "elapsed = timeit.default_timer() - start_time\n",
    "print 'ELAPSED TIME: {} mins'.format(elapsed/60)"
   ]
  },
  {
   "cell_type": "code",
   "execution_count": 12,
   "metadata": {
    "collapsed": false
   },
   "outputs": [
    {
     "data": {
      "text/plain": [
       "[<matplotlib.lines.Line2D at 0x7f42ea776d90>]"
      ]
     },
     "execution_count": 12,
     "metadata": {},
     "output_type": "execute_result"
    },
    {
     "data": {
      "image/png": "[encoded data removed]",
      "text/plain": [
       "<matplotlib.figure.Figure at 0x7f42eac1a290>"
      ]
     },
     "metadata": {},
     "output_type": "display_data"
    }
   ],
   "source": [
    "plot(Y[:,0], Y[:,1], '.')"
   ]
  },
  {
   "cell_type": "code",
   "execution_count": 19,
   "metadata": {
    "collapsed": true
   },
   "outputs": [],
   "source": [
    "import sklearn.mixture"
   ]
  },
  {
   "cell_type": "code",
   "execution_count": 20,
   "metadata": {
    "collapsed": false
   },
   "outputs": [],
   "source": [
    "mixture = sklearn.mixture.GMM(n_components=12) #Gaussian mixture modeling looks like it might work well. "
   ]
  },
  {
   "cell_type": "code",
   "execution_count": 24,
   "metadata": {
    "collapsed": false
   },
   "outputs": [
    {
     "data": {
      "text/plain": [
       "GMM(covariance_type='diag', init_params='wmc', min_covar=0.001,\n",
       "  n_components=12, n_init=1, n_iter=100, params='wmc', random_state=None,\n",
       "  tol=0.001, verbose=0)"
      ]
     },
     "execution_count": 24,
     "metadata": {},
     "output_type": "execute_result"
    }
   ],
   "source": [
    "mixture.fit(Y)"
   ]
  },
  {
   "cell_type": "code",
   "execution_count": 25,
   "metadata": {
    "collapsed": false
   },
   "outputs": [
    {
     "data": {
      "text/plain": [
       "array([10,  3, 10,  9,  1,  7, 10,  7, 11, 11,  9, 10,  9,  3,  9,  5,  7,\n",
       "       11, 10,  5,  3, 10,  9,  1, 10,  1,  9, 10,  8,  3,  4, 10, 10,  3,\n",
       "        7, 11,  9, 10, 10, 10, 11,  6,  3, 11, 10,  5,  2,  5,  2,  7, 10,\n",
       "       10, 11, 10,  4,  9, 10,  9, 10,  4,  8,  5, 10, 11,  9, 10, 10,  7,\n",
       "        4,  9,  9,  7,  7,  3,  9, 10,  6, 10,  3,  6,  8, 11,  6, 11,  7,\n",
       "        3, 11,  6, 11, 10,  8, 11,  4,  7, 10, 11, 10,  9,  7,  4, 11, 10,\n",
       "       10,  6, 10,  7,  8,  9,  8, 11,  9,  8, 10,  9,  9,  4,  9, 10,  9,\n",
       "       10, 10, 10,  9, 10,  1, 10,  3,  3, 10,  9,  9,  8, 11,  8,  9,  9,\n",
       "        1,  1,  1,  1, 10,  7,  0,  4,  2,  4,  7,  0,  9, 10,  7,  4, 10,\n",
       "        8,  4, 10,  4,  7,  9,  7,  8, 11,  9, 11, 11,  8,  7, 10,  9, 10,\n",
       "        7,  8,  9,  2, 10,  9,  9, 10,  7, 11,  9, 10,  3, 11,  4, 10,  3,\n",
       "       11,  6,  3, 10,  5,  9,  9,  3,  3, 11,  7, 10,  6,  9,  1,  1, 10,\n",
       "        2,  5,  7,  2,  0,  5, 10, 10,  7,  8,  0,  9, 11,  8,  3,  5,  5,\n",
       "        5,  4, 11, 11,  8,  5, 10, 10, 10,  7, 11, 11, 11, 11,  8,  4,  4,\n",
       "       10, 10, 10,  2,  7, 10, 10,  9,  9,  3,  2, 10,  6, 10,  8, 11,  8,\n",
       "        3,  2, 10, 10, 10,  9, 10,  4, 10, 10,  2,  1, 10,  4,  3, 10, 11,\n",
       "        2,  1, 10,  4,  3, 11,  4,  1,  7, 10,  9,  9, 10, 10, 10,  4,  4,\n",
       "       10,  8,  2,  7,  9, 10, 11,  3,  1, 10, 10, 11, 10,  3,  4,  3,  9,\n",
       "        3, 10, 10,  1,  4, 11, 10,  1, 10,  3,  9, 10,  8,  9,  7, 10,  6,\n",
       "        1,  6, 11,  3,  7,  7, 10,  8, 11,  9,  1,  9, 11,  9,  5,  5,  5,\n",
       "        8,  4, 11, 10, 11, 11,  3, 10,  9,  7,  1,  1,  1,  9,  9,  7,  7,\n",
       "       10, 10,  9,  9, 10,  1,  9,  1,  3,  7,  8,  8,  9,  7, 10, 10, 10,\n",
       "        1, 10,  5, 11, 11,  6, 11, 10,  9,  5, 11, 10,  9, 11,  9, 11, 10,\n",
       "       11,  0,  9, 10, 10,  9, 10,  9, 11,  8, 11, 11,  6, 11,  1,  6,  9,\n",
       "        7,  7,  4,  9,  7,  4,  1,  9,  1,  9, 10,  9, 11,  6,  8, 11,  8,\n",
       "        9,  4, 10, 10, 10, 10,  2, 11, 11,  7, 10, 10,  1,  7,  8,  8,  7,\n",
       "        2, 11,  4,  4,  4,  7,  8, 11, 11,  7,  7,  6,  6,  7,  4, 10, 10,\n",
       "        1,  9,  3,  9, 10,  5,  3,  7, 11, 10, 11,  9,  9, 10,  7,  8,  7,\n",
       "        9, 10,  7, 11, 10,  7, 11,  9,  4,  6,  5,  8, 10, 10, 10, 11,  9,\n",
       "       10,  7,  9,  9, 10, 11, 10,  9,  5, 11,  9, 10,  9,  7,  9,  7,  9,\n",
       "        6,  3, 10, 11,  9,  7,  7,  1,  9, 10,  9, 10,  2, 11, 10,  8,  9,\n",
       "        9, 10,  1,  9, 10, 10,  8, 11,  7,  9,  4,  1,  4,  5,  3,  9,  7,\n",
       "        9,  7,  7,  9, 10, 10,  7,  9,  7, 10,  7,  1,  1,  7, 11,  7, 11,\n",
       "        7,  9, 10,  9,  6,  8,  7, 11,  1, 10, 11, 11, 10, 10, 11, 10, 10,\n",
       "        1,  7,  9,  7, 11, 10, 10, 11,  9,  7,  3,  4, 10,  7, 10,  9,  6,\n",
       "        9,  9,  3,  4, 11, 11, 10,  5,  8, 10,  7, 11, 11,  7, 11, 11,  7,\n",
       "        7,  1,  5,  9, 11,  2,  8,  9, 11, 10,  4,  4,  3,  8, 11, 10, 10,\n",
       "        9,  5,  5,  3, 10,  4,  4,  9,  7,  7,  2, 10,  9,  9,  5,  6, 11,\n",
       "        7,  9, 11, 11,  1, 10, 10, 11, 10,  6,  7,  5, 10, 11, 10, 10,  7,\n",
       "       11,  6,  9, 10,  8, 10,  7, 10,  4,  3,  7,  7, 11, 10,  9, 10,  1,\n",
       "        3, 11, 11, 11, 10,  8, 11,  2,  3, 11,  5,  3, 11,  7, 10,  6,  4,\n",
       "        9,  8,  7,  8,  6, 11,  9, 10,  8, 11,  4,  9, 10, 10, 11,  3,  1,\n",
       "       10,  4, 11, 10,  6, 11,  9, 10,  8, 11,  6, 10, 10,  7, 10,  3,  5,\n",
       "        9, 10,  7,  6,  7, 10, 10,  2,  9,  2,  8,  2, 11,  7, 10,  6,  6,\n",
       "        9, 10,  4, 10, 10,  9,  5,  9,  3,  7,  9,  1,  7,  9, 10,  7, 10,\n",
       "       10,  7,  1, 11,  2,  7,  9,  9,  1,  7,  9, 10,  9,  3, 10,  9,  9,\n",
       "       11,  7, 11,  7,  4, 11, 10, 11,  2,  3,  9, 11, 11, 10, 10,  9,  9,\n",
       "        9,  8,  1, 10, 10, 10,  9,  8,  9,  5,  9,  1, 10,  1, 10,  8,  9,\n",
       "       10,  9,  9, 10,  0, 11, 11,  7,  7, 11,  7, 11,  7, 10,  2,  7, 10,\n",
       "        9,  8, 11,  3,  7, 10,  7, 10, 11, 10,  8, 10, 10,  9,  9,  4, 11,\n",
       "        7,  9, 11,  7, 10, 10,  9,  6,  9,  3,  9, 10,  9,  1,  1,  7, 10,\n",
       "        6,  9, 10, 10,  9,  2,  8, 11,  5, 11,  0,  4,  4, 10, 11,  7,  4,\n",
       "        7,  3,  9, 11, 10,  5,  9, 10, 10, 10,  8, 10,  7,  1, 11,  7,  9,\n",
       "        9,  9,  3,  4,  9,  9,  3, 10, 10,  6,  9,  7,  4,  6,  4,  2, 10,\n",
       "        7, 11, 10,  9, 11,  4,  3,  7,  4,  7, 11,  9,  9, 11,  7,  5, 10,\n",
       "        8,  7,  8,  9,  9, 10,  9,  9,  8,  7, 11, 10,  7,  4, 10, 10,  4,\n",
       "       11, 10, 10, 10,  1,  1,  9,  5,  7,  9,  7,  3,  7,  1,  3,  2,  8,\n",
       "        7,  4, 11, 10,  4,  4, 10,  3,  3,  5, 11, 10, 10,  4, 10,  9, 10,\n",
       "        7, 10,  8,  8,  8, 10,  1, 10,  7,  9, 10, 11,  9,  3])"
      ]
     },
     "execution_count": 25,
     "metadata": {},
     "output_type": "execute_result"
    }
   ],
   "source": [
    "mixture.predict(Y)"
   ]
  },
  {
   "cell_type": "code",
   "execution_count": 23,
   "metadata": {
    "collapsed": false
   },
   "outputs": [
    {
     "data": {
      "image/png": "[encoded data removed]",
      "text/plain": [
       "<matplotlib.figure.Figure at 0x7f42ee2af150>"
      ]
     },
     "metadata": {},
     "output_type": "display_data"
    }
   ],
   "source": [
    "figure(figsize=(10, 10))\n",
    "uniqueLabels = np.unique(cluster_labels)\n",
    "colors = plt.cm.Paired(np.linspace(0, 1, len(uniqueLabels)))\n",
    "for indLabel, label in enumerate(unique(cluster_labels)):\n",
    "    hold(1)\n",
    "    indsThisLabel = np.flatnonzero(cluster_labels==label)\n",
    "    plot(Y[indsThisLabel, 0], Y[indsThisLabel, 1], '.', color=colors[indLabel])"
   ]
  },
  {
   "cell_type": "code",
   "execution_count": 97,
   "metadata": {
    "collapsed": false
   },
   "outputs": [
    {
     "name": "stdout",
     "output_type": "stream",
     "text": [
      "[t-SNE] Computing 91 nearest neighbors...\n",
      "[t-SNE] Computed conditional probabilities for sample 1000 / 1000\n",
      "[t-SNE] Mean sigma: 7.944425\n",
      "[t-SNE] Iteration 25: error = 1.4007232, gradient norm = 0.0194313\n",
      "[t-SNE] Iteration 50: error = 1.3688711, gradient norm = 0.0202096\n",
      "[t-SNE] Iteration 75: error = 1.0311652, gradient norm = 0.0122536\n",
      "[t-SNE] Iteration 100: error = 1.0379034, gradient norm = 0.0141325\n",
      "[t-SNE] KL divergence after 100 iterations with early exaggeration: 1.037903\n",
      "[t-SNE] Iteration 125: error = 0.9480730, gradient norm = 0.0118740\n",
      "[t-SNE] Iteration 150: error = 1.0017443, gradient norm = 0.0117694\n",
      "[t-SNE] Iteration 175: error = 1.0400749, gradient norm = 0.0123166\n",
      "[t-SNE] Iteration 175: did not make any progress during the last 30 episodes. Finished.\n",
      "[t-SNE] Error after 175 iterations: 1.037903\n",
      "ELAPSED TIME: 0.0789584477743 mins\n"
     ]
    }
   ],
   "source": [
    "import timeit\n",
    "start_time = timeit.default_timer()\n",
    "\n",
    "model = TSNE(n_components=2, method='barnes_hut', verbose=20, n_iter=1000, metric='precomputed')\n",
    "Y = model.fit_transform(X_dist)\n",
    "\n",
    "elapsed = timeit.default_timer() - start_time\n",
    "print 'ELAPSED TIME: {} mins'.format(elapsed/60)"
   ]
  },
  {
   "cell_type": "code",
   "execution_count": 98,
   "metadata": {
    "collapsed": false
   },
   "outputs": [
    {
     "data": {
      "text/plain": [
       "[<matplotlib.lines.Line2D at 0x7ff29e90fad0>]"
      ]
     },
     "execution_count": 98,
     "metadata": {},
     "output_type": "execute_result"
    },
    {
     "data": {
      "image/png": "[encoded data removed]",
      "text/plain": [
       "<matplotlib.figure.Figure at 0x7ff299c35a90>"
      ]
     },
     "metadata": {},
     "output_type": "display_data"
    }
   ],
   "source": [
    "plot(Y[:,0], Y[:,1], '.')"
   ]
  },
  {
   "cell_type": "code",
   "execution_count": 13,
   "metadata": {
    "collapsed": true
   },
   "outputs": [],
   "source": [
    "sigma = 0.1"
   ]
  },
  {
   "cell_type": "code",
   "execution_count": 28,
   "metadata": {
    "collapsed": true
   },
   "outputs": [],
   "source": [
    "import sklearn.neighbors"
   ]
  },
  {
   "cell_type": "code",
   "execution_count": 31,
   "metadata": {
    "collapsed": false
   },
   "outputs": [
    {
     "data": {
      "text/plain": [
       "array([[ 0.        ,  1.41421356,  2.82842712],\n",
       "       [ 1.41421356,  0.        ,  1.41421356],\n",
       "       [ 2.82842712,  1.41421356,  0.        ]])"
      ]
     },
     "execution_count": 31,
     "metadata": {},
     "output_type": "execute_result"
    }
   ],
   "source": [
    "a = array([[1, 1], [2, 2], [3, 3]])\n",
    "dist = euc.pairwise(a)\n",
    "dist"
   ]
  },
  {
   "cell_type": "code",
   "execution_count": 39,
   "metadata": {
    "collapsed": false
   },
   "outputs": [
    {
     "data": {
      "text/plain": [
       "array([ 2.82842712,  1.41421356,  2.82842712])"
      ]
     },
     "execution_count": 39,
     "metadata": {},
     "output_type": "execute_result"
    }
   ],
   "source": [
    "nbrs = sklearn.neighbors.NearestNeighbors(n_neighbors=3, algorithm='auto').fit(a)\n",
    "distances, indices = nbrs.kneighbors(a)\n",
    "distances[:,-1]"
   ]
  },
  {
   "cell_type": "code",
   "execution_count": 14,
   "metadata": {
    "collapsed": true
   },
   "outputs": [],
   "source": [
    "def determine_sigma_from_X(X, k_nb, local=True):\n",
    "    #Adapted from KMap Toolbox by Barbara Hammer's group\n",
    "    #Just needs the raw vectors, not a distance matrix\n",
    "    \n",
    "    k = k_nb + 1 ##### We add 1 to the number of the neighbor to return because the first will always be zero (dist to self)\n",
    "    \n",
    "    nbrs = sklearn.neighbors.NearestNeighbors(n_neighbors=k, algorithm='auto').fit(X)\n",
    "    distances, indices = nbrs.kneighbors(X)\n",
    "    \n",
    "    if local:\n",
    "        return distances[:,-1] #Return distances to last (kth)\n",
    "    else:\n",
    "        return mean(distances[:,-1]) #Return average distance to the kth neighbor"
   ]
  },
  {
   "cell_type": "code",
   "execution_count": 15,
   "metadata": {
    "collapsed": true
   },
   "outputs": [],
   "source": [
    "def determine_sigma(X_dist, k_nb, local=True):\n",
    "    #Uses numpy quicksort, not sure how fast it will be. \n",
    "    #FIXME: might need to work on this more, the toolbox updates to exclude more zeros\n",
    "    \n",
    "    sortedDist = np.sort(X_dist, axis=0)\n",
    "    \n",
    "    if local:\n",
    "        return sortedDist[k_nb, :]\n",
    "    else:\n",
    "        raise NotImplemented"
   ]
  },
  {
   "cell_type": "code",
   "execution_count": 54,
   "metadata": {
    "collapsed": false
   },
   "outputs": [
    {
     "data": {
      "text/plain": [
       "array([ 2.82842712,  1.41421356,  2.82842712])"
      ]
     },
     "execution_count": 54,
     "metadata": {},
     "output_type": "execute_result"
    }
   ],
   "source": [
    "sig = determine_sigma(dist, 2)\n",
    "sig"
   ]
  },
  {
   "cell_type": "code",
   "execution_count": 55,
   "metadata": {
    "collapsed": false
   },
   "outputs": [
    {
     "data": {
      "text/plain": [
       "array([[ 0. ,  1. ,  1. ],\n",
       "       [ 0.5,  0. ,  0.5],\n",
       "       [ 1. ,  1. ,  0. ]])"
      ]
     },
     "execution_count": 55,
     "metadata": {},
     "output_type": "execute_result"
    }
   ],
   "source": [
    "dist / sig #makes quick work of porting bsxfun(@rdivide, X_dist, Par.sig_nb)"
   ]
  },
  {
   "cell_type": "code",
   "execution_count": 58,
   "metadata": {
    "collapsed": false
   },
   "outputs": [],
   "source": [
    "Ker = exp(-1*(dist/sig))"
   ]
  },
  {
   "cell_type": "code",
   "execution_count": 59,
   "metadata": {
    "collapsed": false
   },
   "outputs": [
    {
     "data": {
      "text/plain": [
       "array([[ 1.        ,  0.36787944,  0.36787944],\n",
       "       [ 0.60653066,  1.        ,  0.60653066],\n",
       "       [ 0.36787944,  0.36787944,  1.        ]])"
      ]
     },
     "execution_count": 59,
     "metadata": {},
     "output_type": "execute_result"
    }
   ],
   "source": [
    "Ker"
   ]
  },
  {
   "cell_type": "code",
   "execution_count": 67,
   "metadata": {
    "collapsed": false
   },
   "outputs": [
    {
     "data": {
      "text/plain": [
       "array([ 1.73575888,  2.21306132,  1.73575888])"
      ]
     },
     "execution_count": 67,
     "metadata": {},
     "output_type": "execute_result"
    }
   ],
   "source": [
    "rowSum = np.sum(Ker, 1)\n",
    "rowSum"
   ]
  },
  {
   "cell_type": "code",
   "execution_count": 75,
   "metadata": {
    "collapsed": false
   },
   "outputs": [
    {
     "data": {
      "text/plain": [
       "array([[ 1.73575888,  2.21306132,  1.73575888]])"
      ]
     },
     "execution_count": 75,
     "metadata": {},
     "output_type": "execute_result"
    }
   ],
   "source": [
    "rowSum.reshape((1, 3))"
   ]
  },
  {
   "cell_type": "code",
   "execution_count": 76,
   "metadata": {
    "collapsed": false
   },
   "outputs": [
    {
     "data": {
      "text/plain": [
       "array([[ 0.57611688,  0.21194156,  0.21194156],\n",
       "       [ 0.27406862,  0.45186276,  0.27406862],\n",
       "       [ 0.21194156,  0.21194156,  0.57611688]])"
      ]
     },
     "execution_count": 76,
     "metadata": {},
     "output_type": "execute_result"
    }
   ],
   "source": [
    "Ker / rowSum[:, np.newaxis]"
   ]
  },
  {
   "cell_type": "code",
   "execution_count": 78,
   "metadata": {
    "collapsed": false
   },
   "outputs": [
    {
     "data": {
      "text/plain": [
       "array([[ 4.01768295, -1.95497378, -0.74858965],\n",
       "       [-1.98280532,  7.26914347, -1.98280532],\n",
       "       [-0.74858965, -1.95497378,  4.01768295]])"
      ]
     },
     "execution_count": 78,
     "metadata": {},
     "output_type": "execute_result"
    }
   ],
   "source": [
    "Ker = Ker / rowSum[:, np.newaxis]\n",
    "\n",
    "np.linalg.pinv(Ker)"
   ]
  },
  {
   "cell_type": "code",
   "execution_count": 16,
   "metadata": {
    "collapsed": true
   },
   "outputs": [],
   "source": [
    "def kmap_train(X_dist, Y, sigma_scale):\n",
    "    #Ported from KMap Toolbox by Barbara Hammer's group\n",
    "    \n",
    "    k_nb = 10 # Number of neighbors to use\n",
    "    f_local =1 # 0 for global, 1 for local\n",
    "\n",
    "    sig_nb=determine_sigma(X_dist, k_nb, f_local);\n",
    "    sig_nb = sig_nb**2\n",
    "    sib_nb = sig_nb * sigma_scale #Scale the sigma values\n",
    "    \n",
    "    #Compute the kernel\n",
    "    kernel = np.exp(-1*(X_dist/sig_nb))\n",
    "    \n",
    "    #Divide each row by the row sum (use newaxis trick to get broadcasting to behave)\n",
    "    kernel = kernel / np.sum(kernel, 1)[:,np.newaxis]\n",
    "    \n",
    "    A = np.dot(np.linalg.pinv(kernel), Y)\n",
    "    \n",
    "    return A, sig_nb"
   ]
  },
  {
   "cell_type": "code",
   "execution_count": 17,
   "metadata": {
    "collapsed": false
   },
   "outputs": [],
   "source": [
    "A, sig_nb = kmap_train(X_dist, Y, 0.1)"
   ]
  },
  {
   "cell_type": "code",
   "execution_count": 100,
   "metadata": {
    "collapsed": true
   },
   "outputs": [],
   "source": [
    "# Test dataset\n",
    "spikesToUse = random.randint(len(allWaves), size=5000) #Only use some of the spikes for now\n",
    "testWaves = allWaves[spikesToUse, :]\n"
   ]
  },
  {
   "cell_type": "code",
   "execution_count": 109,
   "metadata": {
    "collapsed": false
   },
   "outputs": [
    {
     "data": {
      "text/plain": [
       "(10111, 1000)"
      ]
     },
     "execution_count": 109,
     "metadata": {},
     "output_type": "execute_result"
    }
   ],
   "source": [
    "#Dist between train and test datasets\n",
    "X_dist_ose = sklearn.metrics.pairwise.euclidean_distances(allWaves, wavesToUse)\n",
    "shape(X_dist_ose)"
   ]
  },
  {
   "cell_type": "code",
   "execution_count": 110,
   "metadata": {
    "collapsed": false
   },
   "outputs": [],
   "source": [
    "def kmap_test(X_dist_ose, A, sig_nb):\n",
    "    kernel_ose = np.exp(-1*(X_dist_ose/sig_nb))\n",
    "    \n",
    "    #Divide each row by the row sum (use newaxis trick to get broadcasting to behave)\n",
    "    kernel_ose = kernel_ose / np.sum(kernel_ose, 1)[:,np.newaxis]\n",
    "    \n",
    "    Y_ose = np.dot(kernel_ose, A)\n",
    "    \n",
    "    return Y_ose"
   ]
  },
  {
   "cell_type": "code",
   "execution_count": 111,
   "metadata": {
    "collapsed": false
   },
   "outputs": [],
   "source": [
    "Y_ose = kmap_test(X_dist_ose, A, sig_nb)"
   ]
  },
  {
   "cell_type": "code",
   "execution_count": 112,
   "metadata": {
    "collapsed": false
   },
   "outputs": [
    {
     "data": {
      "text/plain": [
       "[<matplotlib.lines.Line2D at 0x7ff29e781610>]"
      ]
     },
     "execution_count": 112,
     "metadata": {},
     "output_type": "execute_result"
    },
    {
     "data": {
      "image/png": "[encoded data removed]",
      "text/plain": [
       "<matplotlib.figure.Figure at 0x7ff299c50ad0>"
      ]
     },
     "metadata": {},
     "output_type": "display_data"
    }
   ],
   "source": [
    "plot(Y_ose[:,0], Y_ose[:,1], '.')"
   ]
  },
  {
   "cell_type": "code",
   "execution_count": 114,
   "metadata": {
    "collapsed": false
   },
   "outputs": [
    {
     "name": "stderr",
     "output_type": "stream",
     "text": [
      "/usr/local/lib/python2.7/dist-packages/pkg_resources/__init__.py:1268: UserWarning: /home/nick/.python-eggs is writable by group/others and vulnerable to attack when used with get_resource_filename. Consider a more secure location (set with .set_extraction_path or the PYTHON_EGG_CACHE environment variable).\n",
      "  warnings.warn(msg, UserWarning)\n"
     ]
    }
   ],
   "source": [
    "import hdbscan\n",
    "clus = hdbscan.HDBSCAN(min_cluster_size=10)\n",
    "cluster_labels = clus.fit_predict(Y_ose)"
   ]
  },
  {
   "cell_type": "code",
   "execution_count": 116,
   "metadata": {
    "collapsed": false
   },
   "outputs": [
    {
     "data": {
      "image/png": "[encoded data removed]",
      "text/plain": [
       "<matplotlib.figure.Figure at 0x7ff29e6d4c50>"
      ]
     },
     "metadata": {},
     "output_type": "display_data"
    }
   ],
   "source": [
    "figure(figsize=(10, 10))\n",
    "uniqueLabels = np.unique(cluster_labels)\n",
    "colors = plt.cm.Paired(np.linspace(0, 1, len(uniqueLabels)))\n",
    "for indLabel, label in enumerate(unique(cluster_labels)):\n",
    "    hold(1)\n",
    "    indsThisLabel = np.flatnonzero(cluster_labels==label)\n",
    "    plot(Y_ose[indsThisLabel, 0], Y_ose[indsThisLabel, 1], '.', color=colors[indLabel])"
   ]
  },
  {
   "cell_type": "code",
   "execution_count": 119,
   "metadata": {
    "collapsed": false
   },
   "outputs": [],
   "source": []
  },
  {
   "cell_type": "code",
   "execution_count": 134,
   "metadata": {
    "collapsed": false
   },
   "outputs": [],
   "source": [
    "animalName='adap020'\n",
    "ephysLoc = '/home/nick/data/ephys/'\n",
    "ephysPath = os.path.join(ephysLoc, animalName)\n",
    "ephysFn='2016-05-25_16-33-09'\n",
    "tetrode=2\n",
    "spikesFn = os.path.join(ephysPath, ephysFn, 'Tetrode{}.spikes'.format(tetrode))\n",
    "dataSpikes = loadopenephys.DataSpikes(spikesFn)"
   ]
  },
  {
   "cell_type": "code",
   "execution_count": 135,
   "metadata": {
    "collapsed": true
   },
   "outputs": [],
   "source": [
    "(numSpikes, numChans, numSamples) = shape(dataSpikes.samples)\n",
    "allWaves = dataSpikes.samples.reshape(numSpikes, numChans*numSamples)"
   ]
  },
  {
   "cell_type": "code",
   "execution_count": 137,
   "metadata": {
    "collapsed": true
   },
   "outputs": [],
   "source": [
    "spikesToUse = random.randint(len(allWaves), size=5000) #Only use some of the spikes for now\n",
    "wavesToUse = allWaves[spikesToUse, :]"
   ]
  },
  {
   "cell_type": "code",
   "execution_count": 138,
   "metadata": {
    "collapsed": true
   },
   "outputs": [],
   "source": [
    "X_dist = euc.pairwise(wavesToUse)"
   ]
  },
  {
   "cell_type": "code",
   "execution_count": 139,
   "metadata": {
    "collapsed": false
   },
   "outputs": [
    {
     "name": "stdout",
     "output_type": "stream",
     "text": [
      "[t-SNE] Computing 91 nearest neighbors...\n",
      "[t-SNE] Computed conditional probabilities for sample 1000 / 5000\n",
      "[t-SNE] Computed conditional probabilities for sample 2000 / 5000\n",
      "[t-SNE] Computed conditional probabilities for sample 3000 / 5000\n",
      "[t-SNE] Computed conditional probabilities for sample 4000 / 5000\n",
      "[t-SNE] Computed conditional probabilities for sample 5000 / 5000\n",
      "[t-SNE] Mean sigma: 6.650410\n",
      "[t-SNE] Iteration 25: error = 1.8181822, gradient norm = 0.0096474\n",
      "[t-SNE] Iteration 50: error = 1.7733963, gradient norm = 0.0054940\n",
      "[t-SNE] Iteration 75: error = 1.6334172, gradient norm = 0.0017734\n",
      "[t-SNE] Iteration 100: error = 1.6030693, gradient norm = 0.0014694\n",
      "[t-SNE] KL divergence after 100 iterations with early exaggeration: 1.603069\n",
      "[t-SNE] Iteration 125: error = 1.5512971, gradient norm = 0.0010687\n",
      "[t-SNE] Iteration 150: error = 1.5346128, gradient norm = 0.0009668\n",
      "[t-SNE] Iteration 150: gradient norm 0.000967. Finished.\n",
      "[t-SNE] Error after 150 iterations: 1.603069\n",
      "ELAPSED TIME: 0.562895484765 mins\n"
     ]
    }
   ],
   "source": [
    "import timeit\n",
    "start_time = timeit.default_timer()\n",
    "\n",
    "model = TSNE(n_components=2, method='barnes_hut', verbose=20, n_iter=1000, metric='precomputed')\n",
    "Y = model.fit_transform(X_dist)\n",
    "\n",
    "elapsed = timeit.default_timer() - start_time\n",
    "print 'ELAPSED TIME: {} mins'.format(elapsed/60)"
   ]
  },
  {
   "cell_type": "code",
   "execution_count": 140,
   "metadata": {
    "collapsed": false
   },
   "outputs": [
    {
     "name": "stdout",
     "output_type": "stream",
     "text": [
      "ELAPSED TIME: 3.26624031862 mins\n"
     ]
    }
   ],
   "source": [
    "start_time = timeit.default_timer()\n",
    "A, sig_nb = kmap_train(X_dist, Y, 0.1)\n",
    "elapsed = timeit.default_timer() - start_time\n",
    "print 'ELAPSED TIME: {} mins'.format(elapsed/60)"
   ]
  },
  {
   "cell_type": "code",
   "execution_count": 144,
   "metadata": {
    "collapsed": false
   },
   "outputs": [],
   "source": [
    "chunkWaves = allWaves[0:100000, :]"
   ]
  },
  {
   "cell_type": "code",
   "execution_count": null,
   "metadata": {
    "collapsed": false
   },
   "outputs": [],
   "source": [
    "X_dist_ose = sklearn.metrics.pairwise.euclidean_distances(chunkWaves, wavesToUse)\n",
    "shape(X_dist_ose)"
   ]
  },
  {
   "cell_type": "code",
   "execution_count": 26,
   "metadata": {
    "collapsed": false
   },
   "outputs": [
    {
     "data": {
      "text/plain": [
       "10111"
      ]
     },
     "execution_count": 26,
     "metadata": {},
     "output_type": "execute_result"
    }
   ],
   "source": [
    "len(allWaves)"
   ]
  },
  {
   "cell_type": "code",
   "execution_count": 27,
   "metadata": {
    "collapsed": false
   },
   "outputs": [
    {
     "data": {
      "text/plain": [
       "200.0"
      ]
     },
     "execution_count": 27,
     "metadata": {},
     "output_type": "execute_result"
    }
   ],
   "source": [
    "1000000/5000.0"
   ]
  },
  {
   "cell_type": "code",
   "execution_count": 28,
   "metadata": {
    "collapsed": false
   },
   "outputs": [
    {
     "data": {
      "text/plain": [
       "100"
      ]
     },
     "execution_count": 28,
     "metadata": {},
     "output_type": "execute_result"
    }
   ],
   "source": [
    "200*30/60"
   ]
  },
  {
   "cell_type": "code",
   "execution_count": null,
   "metadata": {
    "collapsed": true
   },
   "outputs": [],
   "source": [
    "fd"
   ]
  }
 ],
 "metadata": {
  "kernelspec": {
   "display_name": "Python 2",
   "language": "python",
   "name": "python2"
  },
  "language_info": {
   "codemirror_mode": {
    "name": "ipython",
    "version": 2
   },
   "file_extension": ".py",
   "mimetype": "text/x-python",
   "name": "python",
   "nbconvert_exporter": "python",
   "pygments_lexer": "ipython2",
   "version": "2.7.6"
  }
 },
 "nbformat": 4,
 "nbformat_minor": 0
}
