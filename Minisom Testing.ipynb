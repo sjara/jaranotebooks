{
 "cells": [
  {
   "cell_type": "code",
   "execution_count": 2,
   "metadata": {
    "collapsed": true
   },
   "outputs": [],
   "source": [
    "import time as time\n",
    "import numpy as np\n",
    "import os\n",
    "from matplotlib import pyplot as plt\n",
    "from jaratoolbox import loadopenephys\n",
    "import sys"
   ]
  },
  {
   "cell_type": "code",
   "execution_count": 3,
   "metadata": {
    "collapsed": true
   },
   "outputs": [],
   "source": [
    "animalName='adap020'\n",
    "ephysLoc = '/home/nick/data/ephys/'\n",
    "ephysPath = os.path.join(ephysLoc, animalName)\n",
    "ephysFn='2016-05-25_16-33-09'\n",
    "tetrode=2\n",
    "spikesFn = os.path.join(ephysPath, ephysFn, 'Tetrode{}.spikes'.format(tetrode))\n",
    "dataSpikes = loadopenephys.DataSpikes(spikesFn)"
   ]
  },
  {
   "cell_type": "code",
   "execution_count": 22,
   "metadata": {
    "collapsed": true
   },
   "outputs": [],
   "source": [
    "(numSpikes, numChans, numSamples) = np.shape(dataSpikes.samples)\n",
    "allWaves = dataSpikes.samples.reshape(numSpikes, numChans*numSamples)"
   ]
  },
  {
   "cell_type": "code",
   "execution_count": 36,
   "metadata": {
    "collapsed": false
   },
   "outputs": [],
   "source": [
    "som = minisom.MiniSom(30,30,160,sigma=0.5,learning_rate=0.5)"
   ]
  },
  {
   "cell_type": "code",
   "execution_count": 37,
   "metadata": {
    "collapsed": false
   },
   "outputs": [
    {
     "name": "stdout",
     "output_type": "stream",
     "text": [
      "ELAPSED TIME: 0.340835448106 mins\n"
     ]
    }
   ],
   "source": [
    "som = minisom.MiniSom(30,30,160,sigma=0.5,learning_rate=0.5)\n",
    "spikesToUse = np.random.randint(len(dataSpikes.samples),size=100)\n",
    "wavesToUse = allWaves[spikesToUse, :]\n",
    "\n",
    "import timeit\n",
    "start_time = timeit.default_timer()\n",
    "\n",
    "som.train_batch(wavesToUse, 1000)\n",
    "\n",
    "elapsed = timeit.default_timer() - start_time\n",
    "print 'ELAPSED TIME: {} mins'.format(elapsed/60)"
   ]
  },
  {
   "cell_type": "code",
   "execution_count": 42,
   "metadata": {
    "collapsed": false
   },
   "outputs": [
    {
     "name": "stdout",
     "output_type": "stream",
     "text": [
      "ELAPSED TIME: 1.75935839812 mins\n"
     ]
    }
   ],
   "source": [
    "som = minisom.MiniSom(30,30,160,sigma=0.5,learning_rate=0.5)\n",
    "nSpikes = 1000\n",
    "spikesToUse = np.random.randint(len(dataSpikes.samples),size=nSpikes)\n",
    "wavesToUse = allWaves[spikesToUse, :]\n",
    "\n",
    "import timeit\n",
    "start_time = timeit.default_timer()\n",
    "\n",
    "som.train_batch(wavesToUse, 5*nSpikes)\n",
    "\n",
    "elapsed = timeit.default_timer() - start_time\n",
    "print 'ELAPSED TIME: {} mins'.format(elapsed/60)"
   ]
  },
  {
   "cell_type": "code",
   "execution_count": 39,
   "metadata": {
    "collapsed": false
   },
   "outputs": [
    {
     "name": "stdout",
     "output_type": "stream",
     "text": [
      "ELAPSED TIME: 0.342849385738 mins\n"
     ]
    }
   ],
   "source": [
    "som = minisom.MiniSom(30,30,160,sigma=0.5,learning_rate=0.5)\n",
    "spikesToUse = np.random.randint(len(dataSpikes.samples),size=10000)\n",
    "wavesToUse = allWaves[spikesToUse, :]\n",
    "\n",
    "import timeit\n",
    "start_time = timeit.default_timer()\n",
    "\n",
    "som.train_batch(wavesToUse, 1000)\n",
    "\n",
    "elapsed = timeit.default_timer() - start_time\n",
    "print 'ELAPSED TIME: {} mins'.format(elapsed/60)"
   ]
  },
  {
   "cell_type": "code",
   "execution_count": 41,
   "metadata": {
    "collapsed": false
   },
   "outputs": [
    {
     "name": "stdout",
     "output_type": "stream",
     "text": [
      "ELAPSED TIME: 0.341517066956 mins\n"
     ]
    }
   ],
   "source": [
    "som = minisom.MiniSom(30,30,160,sigma=0.5,learning_rate=0.5)\n",
    "\n",
    "#Use all the waves\n",
    "\n",
    "import timeit\n",
    "start_time = timeit.default_timer()\n",
    "\n",
    "som.train_batch(allWaves, 1000)\n",
    "\n",
    "elapsed = timeit.default_timer() - start_time\n",
    "print 'ELAPSED TIME: {} mins'.format(elapsed/60)"
   ]
  },
  {
   "cell_type": "code",
   "execution_count": null,
   "metadata": {
    "collapsed": true
   },
   "outputs": [],
   "source": [
    "\n"
   ]
  }
 ],
 "metadata": {
  "kernelspec": {
   "display_name": "Python 2",
   "language": "python",
   "name": "python2"
  },
  "language_info": {
   "codemirror_mode": {
    "name": "ipython",
    "version": 2
   },
   "file_extension": ".py",
   "mimetype": "text/x-python",
   "name": "python",
   "nbconvert_exporter": "python",
   "pygments_lexer": "ipython2",
   "version": "2.7.6"
  }
 },
 "nbformat": 4,
 "nbformat_minor": 0
}
