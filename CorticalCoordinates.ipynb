{
 "cells": [
  {
   "cell_type": "markdown",
   "metadata": {},
   "source": [
    "# Finding the brain area and cortical depth of labeled neurons\n",
    "In this analysis, we have used Fiji to mark some labeled neurons, and we want to use the Allen CCF to determine what brain area the cells come from, and what their relative depth from the surface of the cortex is. \n",
    "\n",
    "This analysis closely follows directions available in the wiki: http://jarahub.uoregon.edu/wiki/Manual_cell_counting_and_registration_to_atlas. It then expands on those instructions to include use of the AllenSDK tool for finding the annotations, as well as a technique for finding the relative depth from pia for each cell. \n"
   ]
  },
  {
   "cell_type": "code",
   "execution_count": 1,
   "metadata": {},
   "outputs": [],
   "source": [
    "# Standard stuff\n",
    "import os\n",
    "import numpy as np\n",
    "\n",
    "# Using jaratoolbox.histologyanalysis for registration and coordinate extraction\n",
    "from jaratoolbox import histologyanalysis as ha\n",
    "\n",
    "# We are going to use the allen SDK for getting CCF annotations\n",
    "# From: https://github.com/AllenInstitute/AllenSDK\n",
    "from allensdk.core.mouse_connectivity_cache import MouseConnectivityCache"
   ]
  },
  {
   "cell_type": "code",
   "execution_count": 2,
   "metadata": {},
   "outputs": [],
   "source": [
    "# Test animal name\n",
    "subject = 'anat036'\n",
    "\n",
    "# The name of the histology slice\n",
    "sliceName = 'p1d2'\n",
    "\n",
    "# The coronal Z-index in the Allen CCF corresponding to the histolgy slice\n",
    "sliceNum = 195"
   ]
  },
  {
   "cell_type": "markdown",
   "metadata": {},
   "source": [
    "# Register histology slice to CCF\n",
    "\n",
    "We need to register our histology slice to the CCF in order to determine the transform that we need to apply to coordinates of marked neurons to transform them into the CCF coordinates. This assumes that you have already counted cells and saved the results out, following the instructions here: http://jarahub.uoregon.edu/wiki/Cell_counting_with_Fiji"
   ]
  },
  {
   "cell_type": "code",
   "execution_count": 3,
   "metadata": {},
   "outputs": [
    {
     "name": "stdout",
     "output_type": "stream",
     "text": [
      "Saved /home/nick/data/registration/anat036/5_ac/p1d2_pre.svg\n"
     ]
    }
   ],
   "source": [
    "#Create SVG file for manual registration\n",
    "\n",
    "#Modify as needed, or change to using jaratoolbox.settings\n",
    "ATLAS_DIR = '/home/nick/data/atlas'\n",
    "HISTOLOGY_DIR = '/home/nick/data/histology'\n",
    "REGISTRATION_DIR = '/home/nick/data/registration'\n",
    "\n",
    "# Path to the JPG of the atlas slice and the histology slice\n",
    "filenameAtlas = os.path.join(ATLAS_DIR, 'AllenCCF_25/JPEG/allenCCF_Z{}.jpg'.format(sliceNum))\n",
    "filenameSlice = os.path.join(HISTOLOGY_DIR, '{}_jpg/5_ac/{}tl.jpg'.format(subject, sliceName))\n",
    "\n",
    "filenameSVG = os.path.join(REGISTRATION_DIR, '{}/5_ac/{}_pre.svg'.format(subject, sliceName))\n",
    "(atlasSize, sliceSize) = ha.save_svg_for_registration(filenameSVG, filenameAtlas, filenameSlice)"
   ]
  },
  {
   "cell_type": "code",
   "execution_count": 4,
   "metadata": {},
   "outputs": [],
   "source": [
    "filenameSVG = os.path.join(REGISTRATION_DIR, '{}/5_ac/{}.svg'.format(subject, sliceName))\n",
    "(scale, translate, affine) = ha.get_svg_transform(filenameSVG, sliceSize=[1388, 1040])\n",
    "\n",
    "filenameCSV = os.path.join(REGISTRATION_DIR, '{}/5_ac/{}.csv'.format(subject, sliceName))\n",
    "coords = ha.get_coords_from_fiji_csv(filenameCSV, pixelSize=4.0048)"
   ]
  },
  {
   "cell_type": "code",
   "execution_count": 5,
   "metadata": {},
   "outputs": [],
   "source": [
    "# The coordinates of the cells transformed into the CCF coord space. \n",
    "newCoords = ha.apply_svg_transform(scale, translate, affine, coords)"
   ]
  },
  {
   "cell_type": "markdown",
   "metadata": {},
   "source": [
    "# Finding brain area of each coordinate pair"
   ]
  },
  {
   "cell_type": "code",
   "execution_count": 6,
   "metadata": {},
   "outputs": [],
   "source": [
    "# We use the 25um voxel size CCF, so this will get you the corresponding annotation volume\n",
    "mcc = MouseConnectivityCache(resolution=25)\n",
    "rsp = mcc.get_reference_space()\n",
    "\n",
    "# All the CCF stuff starts out as saggital slices, and we reslice to coronal. This does the same with the reference volume\n",
    "rspAnnotationVolumeRotated = np.rot90(rsp.annotation, 1, axes=(2, 0))"
   ]
  },
  {
   "cell_type": "code",
   "execution_count": 34,
   "metadata": {},
   "outputs": [
    {
     "data": {
      "text/plain": [
       "<matplotlib.image.AxesImage at 0x7f4774f83fd0>"
      ]
     },
     "execution_count": 34,
     "metadata": {},
     "output_type": "execute_result"
    },
    {
     "data": {
      "image/png": "[encoded data removed]",
      "text/plain": [
       "<matplotlib.figure.Figure at 0x7f4774fe0ad0>"
      ]
     },
     "metadata": {
      "needs_background": "light"
     },
     "output_type": "display_data"
    }
   ],
   "source": [
    "# rspAnnotationVolumeRotated gives the structure ID for each voxel\n",
    "# The area IDs don't make sense to me, and vary by orders of magnitude, so the image looks strange. \n",
    "# but, each voxel contains the ID of the area to which it belongs. \n",
    "plt.imshow(rspAnnotationVolumeRotated[:,:,sliceNum])"
   ]
  },
  {
   "cell_type": "code",
   "execution_count": 29,
   "metadata": {},
   "outputs": [
    {
     "data": {
      "text/plain": [
       "array([373.90071982,  85.08236834])"
      ]
     },
     "execution_count": 29,
     "metadata": {},
     "output_type": "execute_result"
    }
   ],
   "source": [
    "# X and Y coordinates of the first cell\n",
    "newCoords[:,0]"
   ]
  },
  {
   "cell_type": "code",
   "execution_count": 30,
   "metadata": {},
   "outputs": [],
   "source": [
    "structIDs = []\n",
    "\n",
    "# For each cell, find its structure ID and append to a list\n",
    "for indCoords in range(np.shape(newCoords)[1]):\n",
    "    x = newCoords[0,indCoords]\n",
    "    y = newCoords[1,indCoords]\n",
    "    thisCoordID = rspAnnotationVolumeRotated[int(x), int(y), sliceNum]\n",
    "    structIDs.append(thisCoordID)"
   ]
  },
  {
   "cell_type": "code",
   "execution_count": 31,
   "metadata": {},
   "outputs": [],
   "source": [
    "# Return a dictionary of information about each structure ID\n",
    "structDicts = rsp.structure_tree.get_structures_by_id(structIDs)\n",
    "\n",
    "# Extract just the name of the structure for each cell\n",
    "structNames = [d['name'] for d in structDicts]"
   ]
  },
  {
   "cell_type": "code",
   "execution_count": 32,
   "metadata": {},
   "outputs": [
    {
     "data": {
      "text/plain": [
       "[u'Anterolateral visual area, layer 6a',\n",
       " u'Anterolateral visual area, layer 6a',\n",
       " u'Anterolateral visual area, layer 5',\n",
       " u'Anterolateral visual area, layer 4',\n",
       " u'Anterolateral visual area, layer 4',\n",
       " u'Anterolateral visual area, layer 4',\n",
       " u'Anterolateral visual area, layer 2/3',\n",
       " u'Posterior auditory area, layer 5',\n",
       " u'Posterior auditory area, layer 5',\n",
       " u'Posterior auditory area, layer 5',\n",
       " u'Posterior auditory area, layer 5',\n",
       " u'Posterior auditory area, layer 5',\n",
       " u'Posterior auditory area, layer 5',\n",
       " u'Posterior auditory area, layer 5',\n",
       " u'Posterior auditory area, layer 5',\n",
       " u'Posterior auditory area, layer 5',\n",
       " u'Posterior auditory area, layer 5',\n",
       " u'Posterior auditory area, layer 5',\n",
       " u'Posterior auditory area, layer 5',\n",
       " u'Posterior auditory area, layer 5',\n",
       " u'Posterior auditory area, layer 5',\n",
       " u'Posterior auditory area, layer 5',\n",
       " u'Posterior auditory area, layer 5',\n",
       " u'Posterior auditory area, layer 5',\n",
       " u'Posterior auditory area, layer 5',\n",
       " u'Posterior auditory area, layer 5',\n",
       " u'Posterior auditory area, layer 5',\n",
       " u'Posterior auditory area, layer 5',\n",
       " u'Posterior auditory area, layer 5',\n",
       " u'Posterior auditory area, layer 5']"
      ]
     },
     "execution_count": 32,
     "metadata": {},
     "output_type": "execute_result"
    }
   ],
   "source": [
    "structNames"
   ]
  },
  {
   "cell_type": "markdown",
   "metadata": {},
   "source": [
    "# Finding cortical depth of each coordinate pair\n",
    "\n",
    "To find the depth from pia, we are using part of the CCF dataset which is a volume indicating some kind of depth from pia throughout cortex. In practice, using the numbers directly from this volume always produced cortical depth coordinates that did not match well with the distributions of neurons observed in the histology slices. So, we took an approach of simply finding the top and bottom surface of cortex from this volume and calculating the depth of each cell manually. "
   ]
  },
  {
   "cell_type": "code",
   "execution_count": 11,
   "metadata": {},
   "outputs": [],
   "source": [
    "# Finding depth from pia\n",
    "import nrrd\n",
    "lapPath = os.path.join(ATLAS_DIR, 'AllenCCF_25/coronal_laplacian_25.nrrd')\n",
    "lapData = nrrd.read(lapPath)\n",
    "lap = lapData[0]"
   ]
  },
  {
   "cell_type": "code",
   "execution_count": 12,
   "metadata": {},
   "outputs": [],
   "source": [
    "cortexDepthData = np.rot90(lap[:,:,sliceNum], -1)"
   ]
  },
  {
   "cell_type": "code",
   "execution_count": 13,
   "metadata": {},
   "outputs": [
    {
     "data": {
      "text/plain": [
       "<matplotlib.image.AxesImage at 0x7f479a405150>"
      ]
     },
     "execution_count": 13,
     "metadata": {},
     "output_type": "execute_result"
    },
    {
     "data": {
      "image/png": "[encoded data removed]",
      "text/plain": [
       "<matplotlib.figure.Figure at 0x7f479a70fb50>"
      ]
     },
     "metadata": {
      "needs_background": "light"
     },
     "output_type": "display_data"
    }
   ],
   "source": [
    "from matplotlib import pyplot as plt\n",
    "plt.imshow(cortexDepthData)"
   ]
  },
  {
   "cell_type": "code",
   "execution_count": 17,
   "metadata": {},
   "outputs": [
    {
     "data": {
      "image/png": "[encoded data removed]",
      "text/plain": [
       "<matplotlib.figure.Figure at 0x7f479a2887d0>"
      ]
     },
     "metadata": {
      "needs_background": "light"
     },
     "output_type": "display_data"
    }
   ],
   "source": [
    "# We consider the points with depth > 0.95 to be the bottom surface of cortex\n",
    "bottomData = np.where(cortexDepthData>0.95)\n",
    "plt.plot(bottomData[1], bottomData[0], 'y.')\n",
    "\n",
    "# Top of cortex is less than 0.02 but greater than 0\n",
    "topData = np.where((cortexDepthData<0.02) & (cortexDepthData>0))\n",
    "plt.plot(topData[1], topData[0], 'g.')\n",
    "\n",
    "# Inverting here since image Y is flipped\n",
    "plt.gca().invert_yaxis()\n",
    "plt.show()"
   ]
  },
  {
   "cell_type": "code",
   "execution_count": 20,
   "metadata": {},
   "outputs": [],
   "source": [
    "# Calculating depth for all coords we got from the CSV file\n",
    "cellCoords = newCoords \n",
    "\n",
    "# Preallocate array to hold the depth of each cell\n",
    "numCells = np.shape(cellCoords)[1]\n",
    "cellDepths = np.empty(numCells)\n",
    "\n",
    "# Iterate through cells\n",
    "for indCell in range(numCells):\n",
    "    \n",
    "    # Get X and Y coords for this cell\n",
    "    cellX = cellCoords[0, indCell]\n",
    "    cellY = cellCoords[1, indCell]\n",
    "\n",
    "    # Distance between the cell and each point on the surface of the brain\n",
    "    dXTop = topData[1] - cellX\n",
    "    dYTop = topData[0] - cellY\n",
    "    distanceTop = np.sqrt(dXTop**2 + dYTop**2)\n",
    "    \n",
    "    # The index and distance to the closest point on the top surface\n",
    "    indMinTop = np.argmin(distanceTop)\n",
    "    minDistanceTop = distanceTop.min()\n",
    "\n",
    "    # Same for the distance from the cell to the bottom surface of cortex\n",
    "    dXBottom = bottomData[1] - cellX\n",
    "    dYBottom = bottomData[0] - cellY\n",
    "    distanceBottom = np.sqrt(dXBottom**2 + dYBottom**2)\n",
    "    minDistanceBottom = distanceBottom.min()\n",
    "\n",
    "    # The metric we want is the relative distance from the top surface\n",
    "    cellRatio = minDistanceTop / (minDistanceBottom + minDistanceTop)\n",
    "    cellDepths[indCell] = cellRatio"
   ]
  },
  {
   "cell_type": "code",
   "execution_count": 21,
   "metadata": {},
   "outputs": [
    {
     "data": {
      "text/plain": [
       "array([0.89335259, 0.82387541, 0.61212758, 0.44038189, 0.40931786,\n",
       "       0.35580303, 0.30912866, 0.57334362, 0.57334362, 0.57334362,\n",
       "       0.57334362, 0.57334362, 0.57334362, 0.57334362, 0.57334362,\n",
       "       0.57334362, 0.57334362, 0.57334362, 0.59918649, 0.59918649,\n",
       "       0.59918649, 0.59918649, 0.59918649, 0.59918649, 0.62412652,\n",
       "       0.62412652, 0.62412652, 0.62412652, 0.7209823 , 0.59225032])"
      ]
     },
     "execution_count": 21,
     "metadata": {},
     "output_type": "execute_result"
    }
   ],
   "source": [
    "cellDepths"
   ]
  },
  {
   "cell_type": "code",
   "execution_count": null,
   "metadata": {},
   "outputs": [],
   "source": []
  }
 ],
 "metadata": {
  "kernelspec": {
   "display_name": "Python 2",
   "language": "python",
   "name": "python2"
  },
  "language_info": {
   "codemirror_mode": {
    "name": "ipython",
    "version": 2
   },
   "file_extension": ".py",
   "mimetype": "text/x-python",
   "name": "python",
   "nbconvert_exporter": "python",
   "pygments_lexer": "ipython2",
   "version": "2.7.15"
  }
 },
 "nbformat": 4,
 "nbformat_minor": 2
}
